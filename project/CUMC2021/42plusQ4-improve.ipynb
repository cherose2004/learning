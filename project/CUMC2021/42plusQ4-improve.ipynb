{
 "cells": [
  {
   "cell_type": "code",
   "execution_count": 1,
   "source": [
    "import numpy as np\n",
    "import xlrd\n",
    "import xlwt"
   ],
   "outputs": [],
   "metadata": {}
  },
  {
   "cell_type": "code",
   "execution_count": 2,
   "source": [
    "def Select(arr , x):\n",
    "    tmp = list()\n",
    "    for i in range(arr.size):\n",
    "        if arr[i] <= x:\n",
    "            tmp.append(arr[i])\n",
    "            pass\n",
    "        pass\n",
    "    tmp = np.array(tmp)\n",
    "    return tmp.max()\n",
    "    pass\n",
    "\n",
    "class supplier:\n",
    "    def __init__(self , ID , kind , s):\n",
    "        self.ID = ID\n",
    "        self.setkind(kind)\n",
    "        self.settheta(s)\n",
    "        pass\n",
    "\n",
    "    def setkind(self , kind):\n",
    "        self.kind = kind\n",
    "        if kind == \"A\":\n",
    "            self.lam = 1/0.6\n",
    "            self.k = 1.2\n",
    "            pass\n",
    "        elif kind == \"B\":\n",
    "            self.lam = 1/0.66\n",
    "            self.k = 1.1\n",
    "            pass\n",
    "        else:\n",
    "            self.lam = 1/0.72\n",
    "            self.k = 1.\n",
    "            pass\n",
    "        pass\n",
    "\n",
    "    def settheta(self , s):\n",
    "        self.theta_sigma = np.zeros(24)\n",
    "        s = s.reshape(10 , 24)\n",
    "        self.theta_max = s.max(axis = 0)\n",
    "        self.theta_ave = s.mean(axis = 0)\n",
    "        std = np.sqrt(s.var(axis = 0))\n",
    "        line = self.theta_ave + std*2\n",
    "        for i in range(24):\n",
    "            self.theta_sigma[i] = min(self.theta_max[i] , line[i])\n",
    "            self.theta_max[i] = max(self.theta_max[i] , line[i])\n",
    "            pass\n",
    "        pass\n",
    "    pass"
   ],
   "outputs": [],
   "metadata": {}
  },
  {
   "cell_type": "code",
   "execution_count": 3,
   "source": [
    "file = xlrd.open_workbook(\"42.xls\")\n",
    "sheet = file.sheet_by_index(0)\n",
    "M = sheet.nrows-1\n",
    "N = 240\n",
    "\n",
    "ListSupplier = list()\n",
    "for j in range(M):\n",
    "    ID = sheet.cell_value(rowx = j+1 , colx = 0)\n",
    "    kind = sheet.cell_value(rowx = j+1 , colx = 1)\n",
    "    s = np.zeros(N)\n",
    "    for i in range(N):\n",
    "        s[i] = sheet.cell_value(rowx = j+1 , colx = i+2)\n",
    "        pass\n",
    "    item = supplier(ID , kind , s)\n",
    "    ListSupplier.append(item)\n",
    "    pass"
   ],
   "outputs": [],
   "metadata": {}
  },
  {
   "cell_type": "code",
   "execution_count": 4,
   "source": [
    "Max = np.zeros([42 , 24])\n",
    "Sigma = np.zeros([42 , 24])\n",
    "Ave = np.zeros([42 , 24])\n",
    "for j in range(42):\n",
    "    Max[j] = ListSupplier[j].theta_max\n",
    "    Sigma[j] = ListSupplier[j].theta_sigma\n",
    "    Ave = ListSupplier[j].theta_ave\n",
    "    pass\n",
    "\n",
    "Sum = np.zeros(24)\n",
    "for j in range(24):\n",
    "    tmp = 0.\n",
    "    for i in range(42):\n",
    "        tmp += ListSupplier[i].lam * Max[i][j]\n",
    "        pass\n",
    "    Sum[j] = tmp\n",
    "    pass"
   ],
   "outputs": [],
   "metadata": {}
  },
  {
   "cell_type": "markdown",
   "source": [
    "___"
   ],
   "metadata": {}
  },
  {
   "cell_type": "code",
   "execution_count": 5,
   "source": [
    "Write = xlwt.Workbook()\n",
    "sheet1 = Write.add_sheet(\"24周供货表\")\n",
    "sheet2 = Write.add_sheet(\"每周产能\")\n",
    "\n",
    "for i in range(24):\n",
    "    for j in range(42):\n",
    "        sheet1.write(j , i , Max[j][i])\n",
    "        pass\n",
    "    sheet2.write(i , 0 , Sum[i])\n",
    "    pass\n",
    "Write.save(\"Answer to Q4 improve.xls\")"
   ],
   "outputs": [],
   "metadata": {}
  },
  {
   "cell_type": "code",
   "execution_count": null,
   "source": [],
   "outputs": [],
   "metadata": {}
  }
 ],
 "metadata": {
  "orig_nbformat": 4,
  "language_info": {
   "name": "python",
   "version": "3.8.10",
   "mimetype": "text/x-python",
   "codemirror_mode": {
    "name": "ipython",
    "version": 3
   },
   "pygments_lexer": "ipython3",
   "nbconvert_exporter": "python",
   "file_extension": ".py"
  },
  "kernelspec": {
   "name": "python3",
   "display_name": "Python 3.8.10 64-bit"
  },
  "interpreter": {
   "hash": "31f2aee4e71d21fbe5cf8b01ff0e069b9275f58929596ceb00d14d90e3e16cd6"
  }
 },
 "nbformat": 4,
 "nbformat_minor": 2
}