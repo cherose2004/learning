{
 "cells": [
  {
   "cell_type": "markdown",
   "source": [
    "# 1.导入相关库"
   ],
   "metadata": {}
  },
  {
   "cell_type": "code",
   "execution_count": 1,
   "source": [
    "import numpy as np\n",
    "import matplotlib.pyplot as plt\n",
    "import xlrd\n",
    "import xlwt"
   ],
   "outputs": [],
   "metadata": {}
  },
  {
   "cell_type": "markdown",
   "source": [
    "# 2.读写入数据"
   ],
   "metadata": {}
  },
  {
   "cell_type": "code",
   "execution_count": 2,
   "source": [
    "InitRow = 1\n",
    "InitCol = 2\n",
    "\n",
    "file = xlrd.open_workbook(\"abc.xls\")\n",
    "SheetA = file.sheet_by_index(0)\n",
    "SheetB = file.sheet_by_index(1)\n",
    "SheetC = file.sheet_by_index(2)\n",
    "IDA = SheetA.col_values(colx = 0)[1:-1]\n",
    "IDB = SheetB.col_values(colx = 0)[1:-1]\n",
    "IDC = SheetC.col_values(colx = 0)[1:-1]\n",
    "MA , NA = SheetA.nrows-1 , SheetA.ncols-2\n",
    "MB , NB = SheetB.nrows-1 , SheetB.ncols-2\n",
    "MC , NC = SheetC.nrows-1 , SheetB.ncols-2\n",
    "MatA = np.zeros([MA , NA])\n",
    "MatB = np.zeros([MB , NB])\n",
    "MatC = np.zeros([MC , NC])\n",
    "for j in range(MA):\n",
    "    for i in range(NA):\n",
    "        MatA[j][i] = SheetA.cell_value(rowx = j+InitRow , colx = i+InitCol)\n",
    "        pass\n",
    "    pass\n",
    "for j in range(MB):\n",
    "    for i in range(NB):\n",
    "        MatB[j][i] = SheetB.cell_value(rowx = j+InitRow , colx = i+InitCol)\n",
    "        pass\n",
    "    pass\n",
    "for j in range(MC):\n",
    "    for i in range(NC):\n",
    "        MatC[j][i] = SheetC.cell_value(rowx = j+InitRow , colx = i+InitCol)\n",
    "        pass\n",
    "    pass\n",
    "\n",
    "MeanA = np.mean(MatA , axis = 1)\n",
    "MeanB = np.mean(MatB , axis = 1)\n",
    "MeanC = np.mean(MatC , axis = 1)"
   ],
   "outputs": [],
   "metadata": {}
  },
  {
   "cell_type": "code",
   "execution_count": 3,
   "source": [
    "BaseA = 14\n",
    "BaseB = 13\n",
    "BaseC = 15"
   ],
   "outputs": [],
   "metadata": {}
  },
  {
   "cell_type": "markdown",
   "source": [
    "# 3.估计计算"
   ],
   "metadata": {}
  },
  {
   "cell_type": "code",
   "execution_count": 4,
   "source": [
    "kA = 1/0.6\n",
    "kB = 1/0.66\n",
    "kC = 1/0.72\n",
    "\n",
    "Value = MeanA[0:BaseA].sum()*kA\\\n",
    "    + MeanB[0:BaseB].sum()*kB\\\n",
    "        + MeanC[0:BaseC].sum()*kC\n",
    "print(Value)\n",
    "\n",
    "Diff = 2.82e4 - Value\n",
    "print(Diff)\n",
    "Diff/np.array([kA , kB , kC])\n",
    "2.82e4/np.array([kA , kB , kC])"
   ],
   "outputs": [
    {
     "output_type": "stream",
     "name": "stdout",
     "text": [
      "26565.920875420874\n",
      "1634.079124579126\n"
     ]
    },
    {
     "output_type": "execute_result",
     "data": {
      "text/plain": [
       "array([16920., 18612., 20304.])"
      ]
     },
     "metadata": {},
     "execution_count": 4
    }
   ],
   "metadata": {}
  },
  {
   "cell_type": "code",
   "execution_count": null,
   "source": [],
   "outputs": [],
   "metadata": {}
  }
 ],
 "metadata": {
  "orig_nbformat": 4,
  "language_info": {
   "name": "python",
   "version": "3.8.10",
   "mimetype": "text/x-python",
   "codemirror_mode": {
    "name": "ipython",
    "version": 3
   },
   "pygments_lexer": "ipython3",
   "nbconvert_exporter": "python",
   "file_extension": ".py"
  },
  "kernelspec": {
   "name": "python3",
   "display_name": "Python 3.8.10 64-bit"
  },
  "interpreter": {
   "hash": "916dbcbb3f70747c44a77c7bcd40155683ae19c65e1c03b4aa3499c5328201f1"
  }
 },
 "nbformat": 4,
 "nbformat_minor": 2
}