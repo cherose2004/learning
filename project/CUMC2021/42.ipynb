{
 "cells": [
  {
   "cell_type": "code",
   "execution_count": 1,
   "source": [
    "import numpy as np\n",
    "import xlrd\n",
    "import xlwt\n",
    "import scipy.optimize as op"
   ],
   "outputs": [],
   "metadata": {}
  },
  {
   "cell_type": "code",
   "execution_count": 2,
   "source": [
    "class supplier:\n",
    "    def __init__(self , ID , kind , s):\n",
    "        self.ID = ID\n",
    "        self.setkind(kind)\n",
    "        self.settheta(s)\n",
    "        pass\n",
    "\n",
    "    def setkind(self , kind):\n",
    "        self.kind = kind\n",
    "        if kind == \"A\":\n",
    "            self.lam = 1/0.6\n",
    "            self.k = 1.2\n",
    "            pass\n",
    "        elif kind == \"B\":\n",
    "            self.lam = 1/0.66\n",
    "            self.k = 1.1\n",
    "            pass\n",
    "        else:\n",
    "            self.lam = 1/0.72\n",
    "            self.k = 1.\n",
    "            pass\n",
    "        pass\n",
    "\n",
    "    def settheta(self , s):\n",
    "        self.theta = s.max()\n",
    "        ave = np.mean(s)\n",
    "        stda = np.std(s)\n",
    "        line = ave + 2*stda\n",
    "        tmp = list()\n",
    "        for i in range(s.size):\n",
    "            if s[i] < line:\n",
    "                tmp.append(s[i])\n",
    "                pass\n",
    "            pass\n",
    "        tmp = np.array(tmp)\n",
    "        self.theta_modify = tmp.max()\n",
    "        pass"
   ],
   "outputs": [],
   "metadata": {}
  },
  {
   "cell_type": "code",
   "execution_count": 3,
   "source": [
    "file = xlrd.open_workbook(\"42.xls\")\n",
    "sheet = file.sheet_by_index(0)\n",
    "M = sheet.nrows-1\n",
    "N = sheet.ncols-2\n",
    "\n",
    "ListSupplier = list()\n",
    "for j in range(M):\n",
    "    ID = sheet.cell_value(rowx = j+1 , colx = 0)\n",
    "    kind = sheet.cell_value(rowx = j+1 , colx = 1)\n",
    "    s = np.zeros(N)\n",
    "    for i in range(N):\n",
    "        s[i] = sheet.cell_value(rowx = j+1 , colx = i+2)\n",
    "        pass\n",
    "    item = supplier(ID , kind , s)\n",
    "    ListSupplier.append(item)\n",
    "    pass"
   ],
   "outputs": [],
   "metadata": {}
  },
  {
   "cell_type": "code",
   "execution_count": 4,
   "source": [
    "def GetAub(List):\n",
    "    n = len(List)\n",
    "    Aub = np.zeros(n)\n",
    "    for i in range(n):\n",
    "        Aub[i] = -List[i].lam\n",
    "        pass\n",
    "    Aub = np.array([list(Aub)])\n",
    "    return Aub\n",
    "    pass\n",
    "def GetC(List):\n",
    "    n = len(List)\n",
    "    C = np.zeros(n)\n",
    "    for i in range(n):\n",
    "        C[i] = List[i].k\n",
    "        pass\n",
    "    return C\n",
    "    pass\n",
    "def GetBound(List):\n",
    "    bound = list()\n",
    "    n = len(List)\n",
    "    for i in range(n):\n",
    "        tmp = (0. , List[i].theta)\n",
    "        bound.append(tmp)\n",
    "        pass\n",
    "    bound = tuple(bound)\n",
    "    return bound\n",
    "    pass\n",
    "\n",
    "C = GetC(ListSupplier)\n",
    "Aub = GetAub(ListSupplier)\n",
    "bound = GetBound(ListSupplier)\n",
    "bub = np.array([-2.82e4])\n",
    "\n",
    "print(\"start linprog\")"
   ],
   "outputs": [
    {
     "output_type": "stream",
     "name": "stdout",
     "text": [
      "start linprog\n"
     ]
    }
   ],
   "metadata": {}
  },
  {
   "cell_type": "code",
   "execution_count": 5,
   "source": [
    "res = op.linprog(C , Aub , bub , bounds = bound)"
   ],
   "outputs": [],
   "metadata": {}
  },
  {
   "cell_type": "code",
   "execution_count": 6,
   "source": [
    "np.round(res.x)"
   ],
   "outputs": [
    {
     "output_type": "execute_result",
     "data": {
      "text/plain": [
       "array([ 492.,  337.,  205.,  206., 3968.,  140.,  421., 2140.,  853.,\n",
       "        962.,   51.,   16.,   47.,   46.,    0.,    0.,    0.,    0.,\n",
       "          0.,    0.,    0.,    0.,    0.,    0.,    0.,    0.,    0.,\n",
       "        491., 1883.,  159.,  210.,  372.,  136.,  114., 1997.,  401.,\n",
       "        122.,  802., 1555.,   47.,   72.,   84.])"
      ]
     },
     "metadata": {},
     "execution_count": 6
    }
   ],
   "metadata": {}
  },
  {
   "cell_type": "code",
   "execution_count": 7,
   "source": [
    "res.x[0:14].sum()"
   ],
   "outputs": [
    {
     "output_type": "execute_result",
     "data": {
      "text/plain": [
       "9883.503666868364"
      ]
     },
     "metadata": {},
     "execution_count": 7
    }
   ],
   "metadata": {}
  },
  {
   "cell_type": "markdown",
   "source": [
    "___"
   ],
   "metadata": {}
  }
 ],
 "metadata": {
  "orig_nbformat": 4,
  "language_info": {
   "name": "python",
   "version": "3.8.10",
   "mimetype": "text/x-python",
   "codemirror_mode": {
    "name": "ipython",
    "version": 3
   },
   "pygments_lexer": "ipython3",
   "nbconvert_exporter": "python",
   "file_extension": ".py"
  },
  "kernelspec": {
   "name": "python3",
   "display_name": "Python 3.8.10 64-bit"
  },
  "interpreter": {
   "hash": "916dbcbb3f70747c44a77c7bcd40155683ae19c65e1c03b4aa3499c5328201f1"
  }
 },
 "nbformat": 4,
 "nbformat_minor": 2
}