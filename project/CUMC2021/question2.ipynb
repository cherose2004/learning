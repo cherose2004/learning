{
 "cells": [
  {
   "cell_type": "markdown",
   "source": [
    "# 1.导入相关库"
   ],
   "metadata": {}
  },
  {
   "cell_type": "code",
   "execution_count": 1,
   "source": [
    "import numpy as np\n",
    "import xlrd\n",
    "import xlwt\n",
    "import copy\n",
    "from scipy import optimize"
   ],
   "outputs": [],
   "metadata": {}
  },
  {
   "cell_type": "markdown",
   "source": [
    "# 2.基本数据读取"
   ],
   "metadata": {}
  },
  {
   "cell_type": "code",
   "execution_count": 2,
   "source": [
    "Number = 402\n",
    "Week = 240\n",
    "TT = 24\n",
    "InitRow = 1\n",
    "InitColumn = 2\n",
    "\n",
    "Number = 402\n",
    "Week = 240\n",
    "InitRow = 1\n",
    "InitColumn = 2\n",
    "\n",
    "Require = np.zeros([Number , Week])\n",
    "Supply = np.zeros([Number , Week])\n",
    "filename = \"附件1 近5年402家供应商的相关数据.xls\"\n",
    "file = xlrd.open_workbook(filename)\n",
    "SheetName = file.sheet_names()\n",
    "Sheet1 = file.sheet_by_name(sheet_name = SheetName[0])\n",
    "Sheet2 = file.sheet_by_name(sheet_name = SheetName[1])\n",
    "for j in range(Number):\n",
    "    for i in range(Week):\n",
    "        Require[j][i] = Sheet1.cell_value(rowx = j+InitRow , colx = i+InitColumn)\n",
    "        Supply[j][i] = Sheet2.cell_value(rowx = j+InitRow , colx = i+InitColumn)\n",
    "        pass\n",
    "    pass\n",
    "\n",
    "file2 = xlrd.open_workbook(\"AfterRank.xls\")\n",
    "SheetF = file2.sheet_by_index(4)\n",
    "Fn = np.zeros(Number)\n",
    "for j in range(Number):\n",
    "    Fn[j] = SheetF.cell_value(rowx = j , colx = 0)\n",
    "    pass"
   ],
   "outputs": [],
   "metadata": {}
  },
  {
   "cell_type": "markdown",
   "source": [
    "# 3.定义含有$\\theta$的供应商类型Supplier2"
   ],
   "metadata": {}
  },
  {
   "cell_type": "code",
   "execution_count": 3,
   "source": [
    "class Supplier2:\n",
    "\n",
    "    def __init__(self , s , F , kind):\n",
    "        self.F  = F\n",
    "        self.SetKind(kind)\n",
    "        self.GetTheta(s)\n",
    "        pass\n",
    "\n",
    "    def GetTheta(self , s):\n",
    "        theta = np.zeros(TT)\n",
    "        for k in range(Week):\n",
    "            pos = k%TT\n",
    "            theta[pos] += s[k]\n",
    "            pass\n",
    "        theta = theta/(Week/TT)\n",
    "        self.theta = theta\n",
    "        pass\n",
    "\n",
    "    def SetKind(self , kind):\n",
    "        self.kind = kind\n",
    "        if kind == \"A\":\n",
    "            self.lam = 1/0.6\n",
    "            self.k = 1.2\n",
    "            pass\n",
    "        elif kind == \"B\":\n",
    "            self.lam = 1/0.66\n",
    "            self.k = 1.1\n",
    "            pass\n",
    "        else:\n",
    "            self.lam = 1/0.72\n",
    "            self.k = 1.\n",
    "            pass\n",
    "        pass\n",
    "    \n",
    "    pass"
   ],
   "outputs": [],
   "metadata": {}
  },
  {
   "cell_type": "code",
   "execution_count": 4,
   "source": [
    "ListSupplier2 = list()\n",
    "Theta = np.zeros([Number , TT])\n",
    "for j in range(Number):\n",
    "    s = Supply[j]\n",
    "    F = Fn[j]\n",
    "    kind = Sheet2.cell_value(rowx = j+InitRow , colx = 1)\n",
    "    item = Supplier2(s , F , kind)\n",
    "    ListSupplier2.append(item)\n",
    "    Theta[j] = item.theta\n",
    "    pass"
   ],
   "outputs": [],
   "metadata": {}
  },
  {
   "cell_type": "markdown",
   "source": [
    "# 4.对24周的每周开始进行线性规划\n",
    "\n",
    "$n$家供应商，在第$i$周供应，考虑如下情形，其中$x_{ji}$表示$j$企业在第$i$周供应量：\n",
    "\n",
    "$$\n",
    "\\begin{aligned}\n",
    "Z_i &= \\sum_{j = 1}^n k_j x_{ji}\\\\\n",
    "&\\text{期望供应}Z_{i.\\min}\\\\\n",
    "\n",
    "\n",
    "k_j &=\n",
    "\\begin{cases}\n",
    "1.2 , j\\text{企业供应A}\\\\\n",
    "1.1 , j\\text{企业供应B}\\\\\n",
    "1.0 , j\\text{企业供应C}\n",
    "\\end{cases}\n",
    "\n",
    "\\end{aligned}\n",
    "$$\n",
    "\n",
    "并且对于过往五年，以24周为一个生产周期来看待，每周都有个期望供应值$\\theta_{ji}$，为$j$企业在$i$周的期望供应值：\n",
    "\n",
    "$$\n",
    "\\theta_{ji} = \\frac{1}{10}\\sum_{k=1}^{240} s_{jk}\\cdot f(i , k),i = 1,2,3\\cdots24\\\\\n",
    "\n",
    "f(i , k) = \n",
    "\n",
    "\\begin{cases}\n",
    "1 , k\\mod 24=i\\\\\n",
    "0 , k\\mod 24\\neq i\n",
    "\\end{cases}\n",
    "$$"
   ],
   "metadata": {}
  },
  {
   "cell_type": "code",
   "execution_count": 5,
   "source": [
    "Solution = list()\n",
    "C = np.zeros(Number)\n",
    "A = np.zeros(Number)\n",
    "b = np.zeros(1)\n",
    "b[0] = -2.92e4\n",
    "Floor = np.zeros(Number)\n",
    "for j in range(Number):\n",
    "    C[j] = ListSupplier2[j].k\n",
    "    A[j] = -ListSupplier2[j].lam\n",
    "    pass\n",
    "A = list(A)\n",
    "A = np.array([A])\n",
    "\n",
    "for i in range(TT):\n",
    "    bound = list()\n",
    "    for j in range(Number):\n",
    "        tu = (0. , Theta[j][i])\n",
    "        bound.append(tu)\n",
    "        pass\n",
    "    bound = tuple(bound)\n",
    "    res = optimize.linprog(C , A_ub = A , b_ub = b , bounds = bound)\n",
    "    Solution.append(res)\n",
    "\n",
    "    Result = np.zeros([TT , Number])\n",
    "Target = np.zeros(TT)\n",
    "for i in range(TT):\n",
    "    Result[i] = Solution[i].x\n",
    "    Target[i] = Solution[i].fun\n",
    "    pass\n",
    "\n",
    "Result = Result.T"
   ],
   "outputs": [],
   "metadata": {}
  },
  {
   "cell_type": "markdown",
   "source": [
    "# 5.写出程序到excel"
   ],
   "metadata": {}
  },
  {
   "cell_type": "code",
   "execution_count": 6,
   "source": [
    "Write = xlwt.Workbook()\n",
    "SheetW = Write.add_sheet(\"24周线性规划供货表\")\n",
    "for j in range(Number):\n",
    "    for i in range(TT):\n",
    "        SheetW.write(j , i , Result[j][i])\n",
    "        pass\n",
    "    pass\n",
    "Write.save(\"24周线性规划供货表.xls\")"
   ],
   "outputs": [],
   "metadata": {}
  }
 ],
 "metadata": {
  "orig_nbformat": 4,
  "language_info": {
   "name": "python",
   "version": "3.8.10",
   "mimetype": "text/x-python",
   "codemirror_mode": {
    "name": "ipython",
    "version": 3
   },
   "pygments_lexer": "ipython3",
   "nbconvert_exporter": "python",
   "file_extension": ".py"
  },
  "kernelspec": {
   "name": "python3",
   "display_name": "Python 3.8.10 64-bit"
  },
  "interpreter": {
   "hash": "916dbcbb3f70747c44a77c7bcd40155683ae19c65e1c03b4aa3499c5328201f1"
  }
 },
 "nbformat": 4,
 "nbformat_minor": 2
}