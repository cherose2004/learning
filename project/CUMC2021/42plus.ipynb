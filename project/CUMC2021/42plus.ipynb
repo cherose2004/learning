{
 "cells": [
  {
   "cell_type": "code",
   "execution_count": 1,
   "source": [
    "import numpy as np\n",
    "import xlrd\n",
    "import xlwt\n",
    "import scipy.optimize as op"
   ],
   "outputs": [],
   "metadata": {}
  },
  {
   "cell_type": "code",
   "execution_count": 2,
   "source": [
    "def Select(arr , x):\n",
    "    tmp = list()\n",
    "    for i in range(arr.size):\n",
    "        if arr[i] <= x:\n",
    "            tmp.append(arr[i])\n",
    "            pass\n",
    "        pass\n",
    "    tmp = np.array(tmp)\n",
    "    return tmp.max()\n",
    "    pass\n",
    "\n",
    "class supplier:\n",
    "    def __init__(self , ID , kind , s):\n",
    "        self.ID = ID\n",
    "        self.setkind(kind)\n",
    "        self.settheta(s)\n",
    "        pass\n",
    "\n",
    "    def setkind(self , kind):\n",
    "        self.kind = kind\n",
    "        if kind == \"A\":\n",
    "            self.lam = 1/0.6\n",
    "            self.k = 1.2\n",
    "            pass\n",
    "        elif kind == \"B\":\n",
    "            self.lam = 1/0.66\n",
    "            self.k = 1.1\n",
    "            pass\n",
    "        else:\n",
    "            self.lam = 1/0.72\n",
    "            self.k = 1.\n",
    "            pass\n",
    "        pass\n",
    "\n",
    "    def settheta(self , s):\n",
    "        self.theta_sigma = np.zeros(24)\n",
    "        s = s.reshape(10 , 24)\n",
    "        self.theta_max = s.max(axis = 0)\n",
    "        self.theta_ave = s.mean(axis = 0)\n",
    "        std = np.sqrt(s.var(axis = 0))\n",
    "        line = self.theta_ave + std*2\n",
    "        for i in range(24):\n",
    "            self.theta_sigma[i] = min(self.theta_max[i] , line[i])\n",
    "            self.theta_max[i] = max(self.theta_max[i] , line[i])\n",
    "            pass\n",
    "        pass\n",
    "    pass"
   ],
   "outputs": [],
   "metadata": {}
  },
  {
   "cell_type": "code",
   "execution_count": 3,
   "source": [
    "file = xlrd.open_workbook(\"42.xls\")\n",
    "sheet = file.sheet_by_index(0)\n",
    "M = sheet.nrows-1\n",
    "N = 240\n",
    "\n",
    "ListSupplier = list()\n",
    "for j in range(M):\n",
    "    ID = sheet.cell_value(rowx = j+1 , colx = 0)\n",
    "    kind = sheet.cell_value(rowx = j+1 , colx = 1)\n",
    "    s = np.zeros(N)\n",
    "    for i in range(N):\n",
    "        s[i] = sheet.cell_value(rowx = j+1 , colx = i+2)\n",
    "        pass\n",
    "    item = supplier(ID , kind , s)\n",
    "    ListSupplier.append(item)\n",
    "    pass"
   ],
   "outputs": [],
   "metadata": {}
  },
  {
   "cell_type": "code",
   "execution_count": 4,
   "source": [
    "def GetAub(List):\n",
    "    n = len(List)\n",
    "    Aub = np.zeros(n)\n",
    "    for i in range(n):\n",
    "        Aub[i] = -List[i].lam\n",
    "        pass\n",
    "    Aub = np.array([list(Aub)])\n",
    "    return Aub\n",
    "    pass\n",
    "def GetC(List):\n",
    "    n = len(List)\n",
    "    C = np.zeros(n)\n",
    "    for i in range(n):\n",
    "        C[i] = List[i].k\n",
    "        pass\n",
    "    return C\n",
    "    pass\n",
    "def GetBound(List , weeknum):\n",
    "    bound = list()\n",
    "    n = len(List)\n",
    "    for i in range(n):\n",
    "        tmp = (0. , List[i].theta_max[weeknum])\n",
    "        bound.append(tmp)\n",
    "        pass\n",
    "    bound = tuple(bound)\n",
    "    return bound\n",
    "    pass\n",
    "\n",
    "C = GetC(ListSupplier)\n",
    "Aub = GetAub(ListSupplier)\n",
    "Listbound = list()\n",
    "for i in range(24):\n",
    "    Listbound.append( GetBound(ListSupplier , i) )\n",
    "    pass\n",
    "bub = np.array([-2.82e4])\n",
    "\n",
    "Max = np.zeros([42 , 24])\n",
    "Sigma = np.zeros([42 , 24])\n",
    "Ave = np.zeros([42 , 24])\n",
    "for j in range(42):\n",
    "    Max[j] = ListSupplier[j].theta_max\n",
    "    Sigma[j] = ListSupplier[j].theta_sigma\n",
    "    Ave = ListSupplier[j].theta_ave\n",
    "    pass\n",
    "\n",
    "print(\"start linprog\")"
   ],
   "outputs": [
    {
     "output_type": "stream",
     "name": "stdout",
     "text": [
      "start linprog\n"
     ]
    }
   ],
   "metadata": {}
  },
  {
   "cell_type": "code",
   "execution_count": 5,
   "source": [
    "Solution = list()\n",
    "for i in range(24):\n",
    "    res = op.linprog(C , Aub , bub , bounds = Listbound[i] , method = \"highs-ipm\")\n",
    "    Solution.append(res)\n",
    "    pass"
   ],
   "outputs": [],
   "metadata": {}
  },
  {
   "cell_type": "code",
   "execution_count": 6,
   "source": [
    "count = 0\n",
    "for i in range(24):\n",
    "    print(Solution[i].success)\n",
    "    if Solution[i].status == 0:\n",
    "        count += 1\n",
    "        pass\n",
    "    pass\n",
    "print(count)"
   ],
   "outputs": [
    {
     "output_type": "stream",
     "name": "stdout",
     "text": [
      "True\n",
      "True\n",
      "True\n",
      "True\n",
      "True\n",
      "True\n",
      "False\n",
      "False\n",
      "True\n",
      "True\n",
      "True\n",
      "True\n",
      "True\n",
      "True\n",
      "True\n",
      "True\n",
      "True\n",
      "True\n",
      "True\n",
      "True\n",
      "True\n",
      "True\n",
      "True\n",
      "True\n",
      "22\n"
     ]
    }
   ],
   "metadata": {}
  },
  {
   "cell_type": "markdown",
   "source": [
    "___"
   ],
   "metadata": {}
  },
  {
   "cell_type": "code",
   "execution_count": 7,
   "source": [
    "matX2 = np.zeros([24 , 42])\n",
    "for i in range(24):\n",
    "    xx = Solution[i].x\n",
    "    matX2[i] = xx\n",
    "    pass\n",
    "matX2 = matX2.T"
   ],
   "outputs": [],
   "metadata": {}
  },
  {
   "cell_type": "code",
   "execution_count": 8,
   "source": [
    "theta_sigma = np.zeros([42 , 24])\n",
    "theta_max = np.zeros([42 , 24])\n",
    "for j in range(42):\n",
    "    for i in range(24):\n",
    "        theta_sigma[j][i] = ListSupplier[j].theta_sigma[i]\n",
    "        theta_max[j][i] = ListSupplier[j].theta_max[i]\n",
    "        pass\n",
    "    pass"
   ],
   "outputs": [],
   "metadata": {}
  },
  {
   "cell_type": "code",
   "execution_count": null,
   "source": [],
   "outputs": [],
   "metadata": {}
  }
 ],
 "metadata": {
  "orig_nbformat": 4,
  "language_info": {
   "name": "python",
   "version": "3.8.10",
   "mimetype": "text/x-python",
   "codemirror_mode": {
    "name": "ipython",
    "version": 3
   },
   "pygments_lexer": "ipython3",
   "nbconvert_exporter": "python",
   "file_extension": ".py"
  },
  "kernelspec": {
   "name": "python3",
   "display_name": "Python 3.8.10 64-bit"
  },
  "interpreter": {
   "hash": "31f2aee4e71d21fbe5cf8b01ff0e069b9275f58929596ceb00d14d90e3e16cd6"
  }
 },
 "nbformat": 4,
 "nbformat_minor": 2
}