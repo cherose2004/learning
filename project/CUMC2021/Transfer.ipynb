{
 "cells": [
  {
   "cell_type": "code",
   "execution_count": 1,
   "source": [
    "import numpy as np\n",
    "import xlrd\n",
    "import xlwt"
   ],
   "outputs": [],
   "metadata": {}
  },
  {
   "cell_type": "code",
   "execution_count": 2,
   "source": [
    "file = xlrd.open_workbook(\"附件2 近5年8家转运商的相关数据.xls\")\n",
    "sheet = file.sheet_by_index(0)\n",
    "Number = 8\n",
    "Week = 240\n",
    "mat = np.zeros([Number , Week])\n",
    "for j in range(Number):\n",
    "    for i in range(Week):\n",
    "        mat[j][i] = sheet.cell_value(rowx = j+1 , colx = i+1)\n",
    "        pass\n",
    "    pass"
   ],
   "outputs": [],
   "metadata": {}
  },
  {
   "cell_type": "code",
   "execution_count": 3,
   "source": [
    "data = np.zeros([Number , 3])\n",
    "for i in range(Number):\n",
    "    data[i][0] = np.mean(mat[i])\n",
    "    data[i][1] = np.std(mat[i])\n",
    "    data[i][2] = data[i][0] + 2*data[i][1]\n",
    "    pass\n",
    "print(data)"
   ],
   "outputs": [
    {
     "output_type": "stream",
     "name": "stdout",
     "text": [
      "[[1.90476917 0.65593151 3.21663218]\n",
      " [0.92137042 0.47944926 1.88026893]\n",
      " [0.09070208 0.34467828 0.78005865]\n",
      " [0.667455   1.4774245  3.62230399]\n",
      " [0.99939792 1.79313942 4.58567676]\n",
      " [0.489385   1.28913425 3.0676535 ]\n",
      " [2.07883333 1.43241832 4.94366997]\n",
      " [0.85453083 1.08629569 3.0271222 ]]\n"
     ]
    }
   ],
   "metadata": {}
  },
  {
   "cell_type": "code",
   "execution_count": 4,
   "source": [
    "dat = np.zeros(Number)\n",
    "for j in range(Number):\n",
    "    tmp = list()\n",
    "    for i in range(Week):\n",
    "        if mat[j][i] < data[j][2]:\n",
    "            tmp.append(mat[j][i])\n",
    "            pass\n",
    "        pass\n",
    "    tmp = np.array(tmp)\n",
    "    dat[j] = np.mean(tmp)\n",
    "    pass\n",
    "dat"
   ],
   "outputs": [
    {
     "output_type": "execute_result",
     "data": {
      "text/plain": [
       "array([1.84308553, 0.89472911, 0.06664748, 0.25200548, 0.31813561,\n",
       "       0.13108455, 1.47698492, 0.61824493])"
      ]
     },
     "metadata": {},
     "execution_count": 4
    }
   ],
   "metadata": {}
  },
  {
   "cell_type": "code",
   "execution_count": null,
   "source": [],
   "outputs": [],
   "metadata": {}
  }
 ],
 "metadata": {
  "orig_nbformat": 4,
  "language_info": {
   "name": "python",
   "version": "3.8.10",
   "mimetype": "text/x-python",
   "codemirror_mode": {
    "name": "ipython",
    "version": 3
   },
   "pygments_lexer": "ipython3",
   "nbconvert_exporter": "python",
   "file_extension": ".py"
  },
  "kernelspec": {
   "name": "python3",
   "display_name": "Python 3.8.10 64-bit"
  },
  "interpreter": {
   "hash": "916dbcbb3f70747c44a77c7bcd40155683ae19c65e1c03b4aa3499c5328201f1"
  }
 },
 "nbformat": 4,
 "nbformat_minor": 2
}