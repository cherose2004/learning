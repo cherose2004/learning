{
 "cells": [
  {
   "cell_type": "code",
   "execution_count": 1,
   "source": [
    "import numpy as np\n",
    "import xlrd\n",
    "import xlwt\n",
    "import scipy.optimize as op"
   ],
   "outputs": [],
   "metadata": {}
  },
  {
   "cell_type": "code",
   "execution_count": 2,
   "source": [
    "def Select(arr , x):\n",
    "    tmp = list()\n",
    "    for i in range(arr.size):\n",
    "        if arr[i] <= x:\n",
    "            tmp.append(arr[i])\n",
    "            pass\n",
    "        pass\n",
    "    tmp = np.array(tmp)\n",
    "    return tmp.max()\n",
    "    pass\n",
    "\n",
    "class supplier:\n",
    "    def __init__(self , ID , kind , s):\n",
    "        self.ID = ID\n",
    "        self.setkind(kind)\n",
    "        self.settheta(s)\n",
    "        pass\n",
    "\n",
    "    def setkind(self , kind):\n",
    "        self.kind = kind\n",
    "        if kind == \"A\":\n",
    "            self.lam = 1/0.6\n",
    "            self.k = 1.2\n",
    "            pass\n",
    "        elif kind == \"B\":\n",
    "            self.lam = 1/0.66\n",
    "            self.k = 1.1\n",
    "            pass\n",
    "        else:\n",
    "            self.lam = 1/0.72\n",
    "            self.k = 1.\n",
    "            pass\n",
    "        pass\n",
    "\n",
    "    def settheta(self , s):\n",
    "        self.theta_sigma = np.zeros(24)\n",
    "        s = s.reshape(10 , 24)\n",
    "        self.theta_max = s.max(axis = 0)\n",
    "        self.theta_ave = s.mean(axis = 0)\n",
    "        std = np.sqrt(s.var(axis = 0))\n",
    "        line = self.theta_ave + std*2\n",
    "        for i in range(24):\n",
    "            self.theta_sigma[i] = min(self.theta_max[i] , line[i])\n",
    "            self.theta_max[i] = max(self.theta_max[i] , line[i])\n",
    "            pass\n",
    "        pass\n",
    "    pass"
   ],
   "outputs": [],
   "metadata": {}
  },
  {
   "cell_type": "code",
   "execution_count": 3,
   "source": [
    "file = xlrd.open_workbook(\"42.xls\")\n",
    "sheet = file.sheet_by_index(0)\n",
    "M = sheet.nrows-1\n",
    "N = 240\n",
    "\n",
    "ListSupplier = list()\n",
    "for j in range(M):\n",
    "    ID = sheet.cell_value(rowx = j+1 , colx = 0)\n",
    "    kind = sheet.cell_value(rowx = j+1 , colx = 1)\n",
    "    s = np.zeros(N)\n",
    "    for i in range(N):\n",
    "        s[i] = sheet.cell_value(rowx = j+1 , colx = i+2)\n",
    "        pass\n",
    "    item = supplier(ID , kind , s)\n",
    "    ListSupplier.append(item)\n",
    "    pass"
   ],
   "outputs": [],
   "metadata": {}
  },
  {
   "cell_type": "code",
   "execution_count": 4,
   "source": [
    "def GetAub(List):\n",
    "    n = len(List)\n",
    "    Aub = np.zeros(n)\n",
    "    for i in range(n):\n",
    "        Aub[i] = -List[i].lam\n",
    "        pass\n",
    "    Aub = np.array([list(Aub)])\n",
    "    return Aub\n",
    "    pass\n",
    "def GetC(List):\n",
    "    n = len(List)\n",
    "    C = np.zeros(n)\n",
    "    for i in range(n):\n",
    "        C[i] = List[i].k\n",
    "        pass\n",
    "    return C\n",
    "    pass\n",
    "def GetBound(List , weeknum):\n",
    "    bound = list()\n",
    "    n = len(List)\n",
    "    for i in range(n):\n",
    "        tmp = (0. , List[i].theta_max[weeknum])\n",
    "        bound.append(tmp)\n",
    "        pass\n",
    "    bound = tuple(bound)\n",
    "    return bound\n",
    "    pass\n",
    "\n",
    "#C = GetC(ListSupplier)\n",
    "Aub = GetAub(ListSupplier)\n",
    "C = Aub.flatten()\n",
    "Aub = [list(np.zeros(42)+1.)]\n",
    "Listbound = list()\n",
    "for i in range(24):\n",
    "    Listbound.append( GetBound(ListSupplier , i) )\n",
    "    pass\n",
    "#bub = np.array([-2.82e4])\n",
    "bub = np.array([4.8e4])\n",
    "\n",
    "Max = np.zeros([42 , 24])\n",
    "Sigma = np.zeros([42 , 24])\n",
    "Ave = np.zeros([42 , 24])\n",
    "for j in range(42):\n",
    "    Max[j] = ListSupplier[j].theta_max\n",
    "    Sigma[j] = ListSupplier[j].theta_sigma\n",
    "    Ave = ListSupplier[j].theta_ave\n",
    "    pass\n",
    "\n",
    "print(\"start linprog\")"
   ],
   "outputs": [
    {
     "output_type": "stream",
     "name": "stdout",
     "text": [
      "start linprog\n"
     ]
    }
   ],
   "metadata": {}
  },
  {
   "cell_type": "code",
   "execution_count": 5,
   "source": [
    "Solution = list()\n",
    "for i in range(24):\n",
    "    res = op.linprog(C , Aub , bub , bounds = Listbound[i] , method = \"highs-ipm\")\n",
    "    Solution.append(res)\n",
    "    pass"
   ],
   "outputs": [],
   "metadata": {}
  },
  {
   "cell_type": "markdown",
   "source": [
    "___"
   ],
   "metadata": {}
  },
  {
   "cell_type": "code",
   "execution_count": 6,
   "source": [
    "matX2 = np.zeros([24 , 42])\n",
    "for i in range(24):\n",
    "    xx = Solution[i].x\n",
    "    matX2[i] = xx\n",
    "    pass\n",
    "matX2 = np.round(matX2.T)"
   ],
   "outputs": [],
   "metadata": {}
  },
  {
   "cell_type": "code",
   "execution_count": 7,
   "source": [
    "theta_sigma = np.zeros([42 , 24])\n",
    "theta_max = np.zeros([42 , 24])\n",
    "for j in range(42):\n",
    "    for i in range(24):\n",
    "        theta_sigma[j][i] = ListSupplier[j].theta_sigma[i]\n",
    "        theta_max[j][i] = ListSupplier[j].theta_max[i]\n",
    "        pass\n",
    "    pass\n",
    "\n",
    "Sum = np.zeros(24)\n",
    "for j in range(24):\n",
    "    tmp = 0.\n",
    "    for i in range(42):\n",
    "        tmp += ListSupplier[i].lam * matX2[i][j]\n",
    "        pass\n",
    "    Sum[j] = tmp\n",
    "    pass\n",
    "Sum"
   ],
   "outputs": [
    {
     "output_type": "execute_result",
     "data": {
      "text/plain": [
       "array([74287.42424242, 37463.33333333, 42477.04545455, 30956.48989899,\n",
       "       62801.51515152, 46209.09090909, 26259.82323232, 27968.58585859,\n",
       "       33985.78282828, 43553.88888889, 66524.72222222, 71184.84848485,\n",
       "       78304.94949495, 54895.4040404 , 44217.02020202, 46769.72222222,\n",
       "       48329.01515152, 62204.92424242, 79652.42424242, 63706.26262626,\n",
       "       70812.95454545, 63175.45454545, 59353.05555556, 65274.14141414])"
      ]
     },
     "metadata": {},
     "execution_count": 7
    }
   ],
   "metadata": {}
  },
  {
   "cell_type": "code",
   "execution_count": 8,
   "source": [
    "write = xlwt.Workbook()\n",
    "sheet1 = write.add_sheet(\"24周供货表\")\n",
    "sheet2 = write.add_sheet(\"theta_floor取值\")\n",
    "sheet3 = write.add_sheet(\"theta_ceiling取值\")\n",
    "sheet4 = write.add_sheet(\"现在换算后的的产能量\")\n",
    "for j in range(42):\n",
    "    for i in range(24):\n",
    "        sheet1.write(j , i , matX2[j][i])\n",
    "        sheet2.write(j , i , theta_sigma[j][i])\n",
    "        sheet3.write(j , i , theta_max[j][i])\n",
    "        pass\n",
    "    pass\n",
    "for i in range(24):\n",
    "    sheet4.write(i , 0 , Sum[i])\n",
    "write.save(\"Answer to Q4 improve2.xls\")"
   ],
   "outputs": [],
   "metadata": {}
  }
 ],
 "metadata": {
  "orig_nbformat": 4,
  "language_info": {
   "name": "python",
   "version": "3.8.10",
   "mimetype": "text/x-python",
   "codemirror_mode": {
    "name": "ipython",
    "version": 3
   },
   "pygments_lexer": "ipython3",
   "nbconvert_exporter": "python",
   "file_extension": ".py"
  },
  "kernelspec": {
   "name": "python3",
   "display_name": "Python 3.8.10 64-bit"
  },
  "interpreter": {
   "hash": "31f2aee4e71d21fbe5cf8b01ff0e069b9275f58929596ceb00d14d90e3e16cd6"
  }
 },
 "nbformat": 4,
 "nbformat_minor": 2
}