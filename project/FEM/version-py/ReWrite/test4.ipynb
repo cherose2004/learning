{
 "cells": [
  {
   "cell_type": "markdown",
   "source": [
    "# P181-7-8"
   ],
   "metadata": {}
  },
  {
   "cell_type": "code",
   "execution_count": 1,
   "source": [
    "import FEM as fem\n",
    "import numpy as np\n",
    "NaN = np.nan"
   ],
   "outputs": [],
   "metadata": {}
  },
  {
   "cell_type": "code",
   "execution_count": 2,
   "source": [
    "P = 24e3\n",
    "a = 1\n",
    "f = 0.01\n",
    "E = 200e9\n",
    "t = 0.01\n",
    "G = E*f/t/a/10\n",
    "\n",
    "node1 = fem.Node(-a , -a , Px = 0 , Py = 0)\n",
    "node2 = fem.Node(0 , -a , Px = 0 , Py = 0)\n",
    "node3 = fem.Node(a , -a , Px = 0 , Py = 0)\n",
    "node4 = fem.Node(-a , 0 , Px = -P , v = 0)\n",
    "node5 = fem.Node(0 , 0 , Px = 0 , Py = 0)\n",
    "node6 = fem.Node(a , 0 , Px = P , v = 0)\n",
    "node7 = fem.Node(-a , a , Px = 0 , Py = 0)\n",
    "node8 = fem.Node(0 , a , Px = 0 , Py = 0)\n",
    "node9 = fem.Node(a , a , Px = 0 , Py = 0)\n",
    "nodelist = [node1 , node2 , node3 , node4 , node5 , node6 , node7 , node8 , node9]"
   ],
   "outputs": [],
   "metadata": {}
  },
  {
   "cell_type": "code",
   "execution_count": 3,
   "source": [
    "sys = fem.SystemTruss(nodelist)\n",
    "\n",
    "sys.Connect(1 , 2 , E , f)\n",
    "sys.Connect(2 , 3 , E , f)\n",
    "sys.Connect(4 , 5 , E , f)\n",
    "sys.Connect(5 , 6 , E , f)\n",
    "sys.Connect(7 , 8 , E , f)\n",
    "sys.Connect(8 , 9 , E , f)\n",
    "sys.Connect(1 , 4 , E , f)\n",
    "sys.Connect(4 , 7 , E , f)\n",
    "sys.Connect(2 , 5 , E , f)\n",
    "sys.Connect(5 , 8 , E , f)\n",
    "sys.Connect(3 , 6 , E , f)\n",
    "sys.Connect(6 , 9 , E , f)\n",
    "\n",
    "sys.SetSheet(1 , 2 , 5 , 4 , G , t)\n",
    "sys.SetSheet(2 , 3 , 6 , 5 , G , t)\n",
    "sys.SetSheet(4 , 5 , 8 , 7 , G , t)\n",
    "sys.SetSheet(5 , 6 , 9 , 8 , G , t)\n",
    "\n",
    "sys.Generate()"
   ],
   "outputs": [
    {
     "output_type": "stream",
     "name": "stdout",
     "text": [
      "Successfully Build The Truss System!\n",
      "Successfully Generate Matrix K!\n"
     ]
    }
   ],
   "metadata": {}
  },
  {
   "cell_type": "code",
   "execution_count": 4,
   "source": [
    "print(np.floor(sys.K/1e7))"
   ],
   "outputs": [
    {
     "output_type": "stream",
     "name": "stdout",
     "text": [
      "[[ 205.    5. -195.   -5.    0.    0.   -5.    5.   -5.   -5.    0.    0.\n",
      "     0.    0.    0.    0.    0.    0.]\n",
      " [   5.  205.    5.   -5.    0.    0.   -5. -195.   -5.   -5.    0.    0.\n",
      "     0.    0.    0.    0.    0.    0.]\n",
      " [-195.    5.  410.    0. -195.   -5.   -5.    5.  -10.    0.   -5.   -5.\n",
      "     0.    0.    0.    0.    0.    0.]\n",
      " [  -5.   -5.    0.  210.    5.   -5.    5.   -5.    0. -190.   -5.   -5.\n",
      "     0.    0.    0.    0.    0.    0.]\n",
      " [   0.    0. -195.    5.  205.   -5.    0.    0.   -5.    5.   -5.   -5.\n",
      "     0.    0.    0.    0.    0.    0.]\n",
      " [   0.    0.   -5.   -5.   -5.  205.    0.    0.    5.   -5.    5. -195.\n",
      "     0.    0.    0.    0.    0.    0.]\n",
      " [  -5.   -5.   -5.    5.    0.    0.  210.    0. -190.    0.    0.    0.\n",
      "    -5.    5.   -5.   -5.    0.    0.]\n",
      " [   5. -195.    5.   -5.    0.    0.    0.  410.    0.  -10.    0.    0.\n",
      "    -5. -195.   -5.   -5.    0.    0.]\n",
      " [  -5.   -5.  -10.    0.   -5.    5. -190.    0.  420.    0. -190.    0.\n",
      "    -5.    5.  -10.    0.   -5.   -5.]\n",
      " [  -5.   -5.    0. -190.    5.   -5.    0.  -10.    0.  420.    0.  -10.\n",
      "     5.   -5.    0. -190.   -5.   -5.]\n",
      " [   0.    0.   -5.   -5.   -5.    5.    0.    0. -190.    0.  210.    0.\n",
      "     0.    0.   -5.    5.   -5.   -5.]\n",
      " [   0.    0.   -5.   -5.   -5. -195.    0.    0.    0.  -10.    0.  410.\n",
      "     0.    0.    5.   -5.    5. -195.]\n",
      " [   0.    0.    0.    0.    0.    0.   -5.   -5.   -5.    5.    0.    0.\n",
      "   205.   -5. -195.    5.    0.    0.]\n",
      " [   0.    0.    0.    0.    0.    0.    5. -195.    5.   -5.    0.    0.\n",
      "    -5.  205.   -5.   -5.    0.    0.]\n",
      " [   0.    0.    0.    0.    0.    0.   -5.   -5.  -10.    0.   -5.    5.\n",
      "  -195.   -5.  410.    0. -195.    5.]\n",
      " [   0.    0.    0.    0.    0.    0.   -5.   -5.    0. -190.    5.   -5.\n",
      "     5.   -5.    0.  210.   -5.   -5.]\n",
      " [   0.    0.    0.    0.    0.    0.    0.    0.   -5.   -5.   -5.    5.\n",
      "     0.    0. -195.   -5.  205.    5.]\n",
      " [   0.    0.    0.    0.    0.    0.    0.    0.   -5.   -5.   -5. -195.\n",
      "     0.    0.    5.   -5.    5.  205.]]\n"
     ]
    }
   ],
   "metadata": {}
  },
  {
   "cell_type": "code",
   "execution_count": 5,
   "source": [
    "sys.Solve()"
   ],
   "outputs": [],
   "metadata": {}
  },
  {
   "cell_type": "code",
   "execution_count": 6,
   "source": [
    "print(sys.Report)"
   ],
   "outputs": [
    {
     "output_type": "stream",
     "name": "stdout",
     "text": [
      "Reprort : Information of This Truss System\n",
      "\n",
      "**************************************************\n",
      "q of 1,2,5,4:\n",
      "6065.843627920849 N/m\n",
      "\n",
      "q of 2,3,6,5:\n",
      "5957.685187014215 N/m\n",
      "\n",
      "q of 4,5,8,7:\n",
      "-1613.64534464764 N/m\n",
      "\n",
      "q of 5,6,9,8:\n",
      "-4499.375849184783 N/m\n",
      "\n",
      "--------------------------------------------------\n",
      "Node1 :\n",
      " Position :\n",
      "(-1,-1)\n",
      "External Load :\n",
      " Horizontal Load Px = 0.0 N\n",
      "Vertical Load Py = 0.0 N\n",
      "Displacement :\n",
      " Horizontal Displacement u = -4.57763671875e-05 m\n",
      "Vertical Displacement v = 1.4642857142857145e-06 m\n",
      "--------------------------------------------------\n",
      "Node2 :\n",
      " Position :\n",
      "(0,-1)\n",
      "External Load :\n",
      " Horizontal Load Px = 0.0 N\n",
      "Vertical Load Py = 0.0 N\n",
      "Displacement :\n",
      " Horizontal Displacement u = -4.57763671875e-05 m\n",
      "Vertical Displacement v = 1.0875657434942025e-06 m\n",
      "--------------------------------------------------\n",
      "Node3 :\n",
      " Position :\n",
      "(1,-1)\n",
      "External Load :\n",
      " Horizontal Load Px = 0.0 N\n",
      "Vertical Load Py = 0.0 N\n",
      "Displacement :\n",
      " Horizontal Displacement u = -1.52587890625e-05 m\n",
      "Vertical Displacement v = -3.707386363636364e-07 m\n",
      "--------------------------------------------------\n",
      "Node4 :\n",
      " Position :\n",
      "(-1,0)\n",
      "External Load :\n",
      " Horizontal Load Px = -24000.0 N\n",
      "Vertical Load Py = -5866.521077291274 N\n",
      "Displacement :\n",
      " Horizontal Displacement u = -3.0517578125e-05 m\n",
      "Vertical Displacement v = 0.0 m\n",
      "--------------------------------------------------\n",
      "Node5 :\n",
      " Position :\n",
      "(0,0)\n",
      "External Load :\n",
      " Horizontal Load Px = 0.0 N\n",
      "Vertical Load Py = 0.0 N\n",
      "Displacement :\n",
      " Horizontal Displacement u = 0.0 m\n",
      "Vertical Displacement v = 0.0 m\n",
      "--------------------------------------------------\n",
      "Node6 :\n",
      " Position :\n",
      "(1,0)\n",
      "External Load :\n",
      " Horizontal Load Px = 24000.0 N\n",
      "Vertical Load Py = 948.8928112072083 N\n",
      "Displacement :\n",
      " Horizontal Displacement u = 0.0 m\n",
      "Vertical Displacement v = 0.0 m\n",
      "--------------------------------------------------\n",
      "Node7 :\n",
      " Position :\n",
      "(-1,1)\n",
      "External Load :\n",
      " Horizontal Load Px = 0.0 N\n",
      "Vertical Load Py = 0.0 N\n",
      "Displacement :\n",
      " Horizontal Displacement u = -1.52587890625e-05 m\n",
      "Vertical Displacement v = 3.5592525354162005e-07 m\n",
      "--------------------------------------------------\n",
      "Node8 :\n",
      " Position :\n",
      "(0,1)\n",
      "External Load :\n",
      " Horizontal Load Px = 0.0 N\n",
      "Vertical Load Py = 0.0 N\n",
      "Displacement :\n",
      " Horizontal Displacement u = -3.0517578125e-05 m\n",
      "Vertical Displacement v = -5.21739130434781e-07 m\n",
      "--------------------------------------------------\n",
      "Node9 :\n",
      " Position :\n",
      "(1,1)\n",
      "External Load :\n",
      " Horizontal Load Px = 0.0 N\n",
      "Vertical Load Py = 0.0 N\n",
      "Displacement :\n",
      " Horizontal Displacement u = -1.52587890625e-05 m\n",
      "Vertical Displacement v = 2.608695652173906e-07 m\n",
      "**************************************************\n"
     ]
    }
   ],
   "metadata": {}
  },
  {
   "cell_type": "code",
   "execution_count": 7,
   "source": [
    "ans=sys.InternalForce"
   ],
   "outputs": [],
   "metadata": {}
  },
  {
   "cell_type": "code",
   "execution_count": 8,
   "source": [
    "ll = sys.SheetList"
   ],
   "outputs": [],
   "metadata": {}
  },
  {
   "cell_type": "code",
   "execution_count": 9,
   "source": [
    "ll[3].ke/1e6"
   ],
   "outputs": [
    {
     "output_type": "execute_result",
     "data": {
      "text/plain": [
       "matrix([[ 50.,  50.,  50., -50., -50., -50., -50.,  50.],\n",
       "        [ 50.,  50.,  50., -50., -50., -50., -50.,  50.],\n",
       "        [ 50.,  50.,  50., -50., -50., -50., -50.,  50.],\n",
       "        [-50., -50., -50.,  50.,  50.,  50.,  50., -50.],\n",
       "        [-50., -50., -50.,  50.,  50.,  50.,  50., -50.],\n",
       "        [-50., -50., -50.,  50.,  50.,  50.,  50., -50.],\n",
       "        [-50., -50., -50.,  50.,  50.,  50.,  50., -50.],\n",
       "        [ 50.,  50.,  50., -50., -50., -50., -50.,  50.]])"
      ]
     },
     "metadata": {},
     "execution_count": 9
    }
   ],
   "metadata": {}
  },
  {
   "cell_type": "code",
   "execution_count": 10,
   "source": [
    "sys.PartK['0,1']/1e6"
   ],
   "outputs": [
    {
     "output_type": "execute_result",
     "data": {
      "text/plain": [
       "array([[ 2000.,     0., -2000.,     0.],\n",
       "       [    0.,     0.,     0.,     0.],\n",
       "       [-2000.,     0.,  2000.,     0.],\n",
       "       [    0.,     0.,     0.,     0.]])"
      ]
     },
     "metadata": {},
     "execution_count": 10
    }
   ],
   "metadata": {}
  },
  {
   "cell_type": "code",
   "execution_count": 11,
   "source": [
    "uv = np.linalg.inv(sys.K).dot(np.array([\n",
    "    0,0,0,0,0,0,-P,0,0,0,P,0,0,0,0,0,0,0\n",
    "]))"
   ],
   "outputs": [],
   "metadata": {}
  },
  {
   "cell_type": "code",
   "execution_count": 12,
   "source": [
    "uv"
   ],
   "outputs": [
    {
     "output_type": "execute_result",
     "data": {
      "text/plain": [
       "array([-1.08480453e-05, -1.52215362e-05, -1.08480453e-05, -2.66283751e-05,\n",
       "       -1.03116035e-05, -4.84585762e-05, -2.53915787e-05, -1.42008066e-05,\n",
       "       -1.36792660e-05, -2.66283751e-05, -2.50339508e-06, -4.84585762e-05,\n",
       "        1.34706497e-05, -1.03861094e-05,  9.92417336e-06, -3.22163105e-05,\n",
       "        7.62939453e-06, -4.95910645e-05])"
      ]
     },
     "metadata": {},
     "execution_count": 12
    }
   ],
   "metadata": {}
  },
  {
   "cell_type": "code",
   "execution_count": 13,
   "source": [
    "K = sys.K"
   ],
   "outputs": [],
   "metadata": {}
  },
  {
   "cell_type": "code",
   "execution_count": 14,
   "source": [
    "IF = sys.InternalForce"
   ],
   "outputs": [],
   "metadata": {}
  },
  {
   "cell_type": "code",
   "execution_count": 15,
   "source": [
    "sys.NodeConnection"
   ],
   "outputs": [
    {
     "output_type": "execute_result",
     "data": {
      "text/plain": [
       "array([[0., 1., 0., 1., 0., 0., 0., 0., 0.],\n",
       "       [0., 0., 1., 0., 1., 0., 0., 0., 0.],\n",
       "       [0., 0., 0., 0., 0., 1., 0., 0., 0.],\n",
       "       [0., 0., 0., 0., 1., 0., 1., 0., 0.],\n",
       "       [0., 0., 0., 0., 0., 1., 0., 1., 0.],\n",
       "       [0., 0., 0., 0., 0., 0., 0., 0., 1.],\n",
       "       [0., 0., 0., 0., 0., 0., 0., 1., 0.],\n",
       "       [0., 0., 0., 0., 0., 0., 0., 0., 1.],\n",
       "       [0., 0., 0., 0., 0., 0., 0., 0., 0.]])"
      ]
     },
     "metadata": {},
     "execution_count": 15
    }
   ],
   "metadata": {}
  },
  {
   "cell_type": "code",
   "execution_count": 16,
   "source": [
    "(-3.221631050109863e-05+2.6628375053405762e-05)*12"
   ],
   "outputs": [
    {
     "output_type": "execute_result",
     "data": {
      "text/plain": [
       "-6.705522537231445e-05"
      ]
     },
     "metadata": {},
     "execution_count": 16
    }
   ],
   "metadata": {}
  },
  {
   "cell_type": "code",
   "execution_count": null,
   "source": [],
   "outputs": [],
   "metadata": {}
  }
 ],
 "metadata": {
  "orig_nbformat": 4,
  "language_info": {
   "name": "python",
   "version": "3.8.10",
   "mimetype": "text/x-python",
   "codemirror_mode": {
    "name": "ipython",
    "version": 3
   },
   "pygments_lexer": "ipython3",
   "nbconvert_exporter": "python",
   "file_extension": ".py"
  },
  "kernelspec": {
   "name": "python3",
   "display_name": "Python 3.8.10 64-bit"
  },
  "interpreter": {
   "hash": "916dbcbb3f70747c44a77c7bcd40155683ae19c65e1c03b4aa3499c5328201f1"
  }
 },
 "nbformat": 4,
 "nbformat_minor": 2
}