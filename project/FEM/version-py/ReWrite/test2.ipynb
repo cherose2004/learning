{
 "cells": [
  {
   "cell_type": "code",
   "execution_count": 1,
   "source": [
    "import numpy as np\n",
    "import FEM as fem"
   ],
   "outputs": [],
   "metadata": {}
  },
  {
   "cell_type": "code",
   "execution_count": 2,
   "source": [
    "E = 2e7*1e4\n",
    "f1 = 1e-4\n",
    "f2 = f1/np.sqrt(2)\n",
    "a = 0.2\n",
    "P = 1e4"
   ],
   "outputs": [],
   "metadata": {}
  },
  {
   "cell_type": "code",
   "execution_count": 3,
   "source": [
    "node1 = fem.Node(a , a , Px = 0 , Py = P)\n",
    "node2 = fem.Node(a , 0 , Px = 0 , Py = 0)\n",
    "node3 = fem.Node(0 , a , u = 0 , v = 0)\n",
    "node4 = fem.Node(0 , 0 , u = 0 , v = 0)\n",
    "nodelist = [node1 , node2 , node3 , node4]\n",
    "sys = fem.SystemTruss(nodelist)"
   ],
   "outputs": [
    {
     "output_type": "stream",
     "name": "stdout",
     "text": [
      "Successfully Build The Truss System!\n"
     ]
    }
   ],
   "metadata": {}
  },
  {
   "cell_type": "code",
   "execution_count": 4,
   "source": [
    "sys.Connect(3 , 1 , E , f1)\n",
    "sys.Connect(4 , 1 , E , f2)\n",
    "sys.Connect(1 , 2 , E , f1)\n",
    "sys.Connect(3 , 2 , E , f2)\n",
    "sys.Connect(4 , 2 , E , f1)\n",
    "sys.Connect(3 , 4 , E , f1)\n",
    "sys.Generate()"
   ],
   "outputs": [
    {
     "output_type": "stream",
     "name": "stdout",
     "text": [
      "Successfully Generate Matrix K!\n"
     ]
    }
   ],
   "metadata": {}
  },
  {
   "cell_type": "code",
   "execution_count": 5,
   "source": [
    "sys.K/1e8/0.25"
   ],
   "outputs": [
    {
     "output_type": "execute_result",
     "data": {
      "text/plain": [
       "array([[ 5.,  1.,  0.,  0., -4.,  0., -1., -1.],\n",
       "       [ 1.,  5.,  0., -4.,  0.,  0., -1., -1.],\n",
       "       [ 0.,  0.,  5., -1., -1.,  1., -4.,  0.],\n",
       "       [ 0., -4., -1.,  5.,  1., -1.,  0.,  0.],\n",
       "       [-4.,  0., -1.,  1.,  5., -1.,  0.,  0.],\n",
       "       [ 0.,  0.,  1., -1., -1.,  5.,  0., -4.],\n",
       "       [-1., -1., -4.,  0.,  0.,  0.,  5.,  1.],\n",
       "       [-1., -1.,  0.,  0.,  0., -4.,  1.,  5.]])"
      ]
     },
     "metadata": {},
     "execution_count": 5
    }
   ],
   "metadata": {}
  },
  {
   "cell_type": "code",
   "execution_count": 6,
   "source": [
    "sys.Solve()"
   ],
   "outputs": [],
   "metadata": {}
  },
  {
   "cell_type": "code",
   "execution_count": 7,
   "source": [
    "print(sys.Report)"
   ],
   "outputs": [
    {
     "output_type": "stream",
     "name": "stdout",
     "text": [
      "Reprort : Information of This Truss System\n",
      "\n",
      "**************************************************\n",
      "--------------------------------------------------\n",
      "Node1 :\n",
      " Position :\n",
      "(0.2,0.2)\n",
      "External Load :\n",
      " Horizontal Load Px = 0.0 N\n",
      "Vertical Load Py = 10000.0 N\n",
      "Displacement :\n",
      " Horizontal Displacement u = -5.4545454545454546e-05 m\n",
      "Vertical Displacement v = 0.0002727272727272728 m\n",
      "--------------------------------------------------\n",
      "Node2 :\n",
      " Position :\n",
      "(0.2,0)\n",
      "External Load :\n",
      " Horizontal Load Px = 0.0 N\n",
      "Vertical Load Py = 0.0 N\n",
      "Displacement :\n",
      " Horizontal Displacement u = 4.545454545454545e-05 m\n",
      "Vertical Displacement v = 0.00022727272727272733 m\n",
      "--------------------------------------------------\n",
      "Node3 :\n",
      " Position :\n",
      "(0,0.2)\n",
      "External Load :\n",
      " Horizontal Load Px = 10000.0 N\n",
      "Vertical Load Py = -4545.454545454545 N\n",
      "Displacement :\n",
      " Horizontal Displacement u = 0.0 m\n",
      "Vertical Displacement v = 0.0 m\n",
      "--------------------------------------------------\n",
      "Node4 :\n",
      " Position :\n",
      "(0,0)\n",
      "External Load :\n",
      " Horizontal Load Px = -10000.0 N\n",
      "Vertical Load Py = -5454.545454545455 N\n",
      "Displacement :\n",
      " Horizontal Displacement u = 0.0 m\n",
      "Vertical Displacement v = 0.0 m\n",
      "**************************************************\n"
     ]
    }
   ],
   "metadata": {}
  },
  {
   "cell_type": "code",
   "execution_count": 8,
   "source": [
    "sys.InternalForce"
   ],
   "outputs": [
    {
     "output_type": "execute_result",
     "data": {
      "text/plain": [
       "array([[    0.        ,  4545.45454545, -5454.54545455,  7713.8921584 ],\n",
       "       [ 4545.45454545,     0.        , -6428.24346533,  4545.45454545],\n",
       "       [-5454.54545455, -6428.24346533,     0.        ,    -0.        ],\n",
       "       [ 7713.8921584 ,  4545.45454545,     0.        ,     0.        ]])"
      ]
     },
     "metadata": {},
     "execution_count": 8
    }
   ],
   "metadata": {}
  },
  {
   "cell_type": "code",
   "execution_count": 9,
   "source": [
    "12/np.sqrt(2)/11"
   ],
   "outputs": [
    {
     "output_type": "execute_result",
     "data": {
      "text/plain": [
       "0.77138921583987"
      ]
     },
     "metadata": {},
     "execution_count": 9
    }
   ],
   "metadata": {}
  }
 ],
 "metadata": {
  "orig_nbformat": 4,
  "language_info": {
   "name": "python",
   "version": "3.8.10",
   "mimetype": "text/x-python",
   "codemirror_mode": {
    "name": "ipython",
    "version": 3
   },
   "pygments_lexer": "ipython3",
   "nbconvert_exporter": "python",
   "file_extension": ".py"
  },
  "kernelspec": {
   "name": "python3",
   "display_name": "Python 3.8.10 64-bit"
  },
  "interpreter": {
   "hash": "916dbcbb3f70747c44a77c7bcd40155683ae19c65e1c03b4aa3499c5328201f1"
  }
 },
 "nbformat": 4,
 "nbformat_minor": 2
}