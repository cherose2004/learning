{
 "cells": [
  {
   "cell_type": "markdown",
   "source": [
    "# 老钱作业"
   ],
   "metadata": {}
  },
  {
   "cell_type": "code",
   "execution_count": 1,
   "source": [
    "import numpy as np\n",
    "import FEM as fem"
   ],
   "outputs": [],
   "metadata": {}
  },
  {
   "cell_type": "code",
   "execution_count": 2,
   "source": [
    "P = 10000\n",
    "a = 1\n",
    "f = 30e-4\n",
    "t = 0.1e-2\n",
    "mu = 0.3\n",
    "E = 70e9\n",
    "G = E/2/(1+mu)"
   ],
   "outputs": [],
   "metadata": {}
  },
  {
   "cell_type": "code",
   "execution_count": 3,
   "source": [
    "nodelist = list()\n",
    "for i in range(6):\n",
    "    node = fem.Node((5-i)*a , a , Px = 0 , Py = -P)\n",
    "    nodelist.append(node)\n",
    "    pass\n",
    "nodelist[-1].SetBound(u = 0 , v = 0)\n",
    "for i in range(6):\n",
    "    node = fem.Node((5-i)*a , 0 , Px = 0 , Py = 0)\n",
    "    nodelist.append(node)\n",
    "    pass\n",
    "nodelist[-1].SetBound(Py = 0 , u = 0)\n",
    "\n",
    "sys = fem.SystemTruss(nodelist)"
   ],
   "outputs": [
    {
     "output_type": "stream",
     "name": "stdout",
     "text": [
      "Successfully Build The Truss System!\n"
     ]
    }
   ],
   "metadata": {}
  },
  {
   "cell_type": "code",
   "execution_count": 4,
   "source": [
    "for i in range(5):\n",
    "    sys.Connect(i+1 , i+2 , E , f)\n",
    "    sys.Connect(i+1 , i+7 , E , f)\n",
    "    sys.Connect(i+7 , i+8 , E , f)\n",
    "    pass\n",
    "sys.Connect(6 , 12 , E , f)\n",
    "for i in range(5):\n",
    "    sys.SetSheet(12-i , 11-i , 5-i , 6-i , G , t)\n",
    "    pass\n",
    "sys.Generate()"
   ],
   "outputs": [
    {
     "output_type": "stream",
     "name": "stdout",
     "text": [
      "Successfully Generate Matrix K!\n"
     ]
    }
   ],
   "metadata": {}
  },
  {
   "cell_type": "code",
   "execution_count": 5,
   "source": [
    "sys.Solve()"
   ],
   "outputs": [],
   "metadata": {}
  },
  {
   "cell_type": "code",
   "execution_count": 6,
   "source": [
    "print(sys.Report)"
   ],
   "outputs": [
    {
     "output_type": "stream",
     "name": "stdout",
     "text": [
      "Reprort : Information of This Truss System\n",
      "\n",
      "************************************************************\n",
      "q of 12,11,5,6:\n",
      "-50000.000000002685 N/m\n",
      "\n",
      "q of 11,10,4,5:\n",
      "-40000.00000000259 N/m\n",
      "\n",
      "q of 10,9,3,4:\n",
      "-30000.000000002176 N/m\n",
      "\n",
      "q of 9,8,2,3:\n",
      "-20000.000000001386 N/m\n",
      "\n",
      "q of 8,7,1,2:\n",
      "-10000.000000000016 N/m\n",
      "\n",
      "------------------------------------------------------------\n",
      "Node1 :\n",
      " Position :\n",
      "(5,1)\n",
      "External Load :\n",
      "Horizontal Load Px = 0.0 N\n",
      "Vertical Load Py = -10000.0 N\n",
      "Displacement :\n",
      "Horizontal Displacement u = 0.001309523809523887 m\n",
      "Vertical Displacement v = -0.015047619047619955 m\n",
      "------------------------------------------------------------\n",
      "Node2 :\n",
      " Position :\n",
      "(4,1)\n",
      "External Load :\n",
      "Horizontal Load Px = 0.0 N\n",
      "Vertical Load Py = -10000.0 N\n",
      "Displacement :\n",
      "Horizontal Displacement u = 0.001285714285714363 m\n",
      "Vertical Displacement v = -0.01208095238095313 m\n",
      "------------------------------------------------------------\n",
      "Node3 :\n",
      " Position :\n",
      "(3,1)\n",
      "External Load :\n",
      "Horizontal Load Px = 0.0 N\n",
      "Vertical Load Py = -10000.0 N\n",
      "Displacement :\n",
      "Horizontal Displacement u = 0.001190476190476264 m\n",
      "Vertical Displacement v = -0.008861904761905308 m\n",
      "------------------------------------------------------------\n",
      "Node4 :\n",
      " Position :\n",
      "(2,1)\n",
      "External Load :\n",
      "Horizontal Load Px = 0.0 N\n",
      "Vertical Load Py = -10000.0 N\n",
      "Displacement :\n",
      "Horizontal Displacement u = 0.0009761904761905369 m\n",
      "Vertical Displacement v = -0.005580952380952714 m\n",
      "------------------------------------------------------------\n",
      "Node5 :\n",
      " Position :\n",
      "(1,1)\n",
      "External Load :\n",
      "Horizontal Load Px = 0.0 N\n",
      "Vertical Load Py = -10000.0 N\n",
      "Displacement :\n",
      "Horizontal Displacement u = 0.0005952380952381319 m\n",
      "Vertical Displacement v = -0.0025238095238096633 m\n",
      "------------------------------------------------------------\n",
      "Node6 :\n",
      " Position :\n",
      "(0,1)\n",
      "External Load :\n",
      "Horizontal Load Px = -150000.00000000905 N\n",
      "Vertical Load Py = 50000.00000000268 N\n",
      "Displacement :\n",
      "Horizontal Displacement u = 0.0 m\n",
      "Vertical Displacement v = 0.0 m\n",
      "------------------------------------------------------------\n",
      "Node7 :\n",
      " Position :\n",
      "(5,0)\n",
      "External Load :\n",
      "Horizontal Load Px = 0.0 N\n",
      "Vertical Load Py = 0.0 N\n",
      "Displacement :\n",
      "Horizontal Displacement u = -0.001309523809523887 m\n",
      "Vertical Displacement v = -0.015023809523810428 m\n",
      "------------------------------------------------------------\n",
      "Node8 :\n",
      " Position :\n",
      "(4,0)\n",
      "External Load :\n",
      "Horizontal Load Px = 0.0 N\n",
      "Vertical Load Py = 0.0 N\n",
      "Displacement :\n",
      "Horizontal Displacement u = -0.0012857142857143628 m\n",
      "Vertical Displacement v = -0.012057142857143608 m\n",
      "------------------------------------------------------------\n",
      "Node9 :\n",
      " Position :\n",
      "(3,0)\n",
      "External Load :\n",
      "Horizontal Load Px = 0.0 N\n",
      "Vertical Load Py = 0.0 N\n",
      "Displacement :\n",
      "Horizontal Displacement u = -0.0011904761904762637 m\n",
      "Vertical Displacement v = -0.008838095238095787 m\n",
      "------------------------------------------------------------\n",
      "Node10 :\n",
      " Position :\n",
      "(2,0)\n",
      "External Load :\n",
      "Horizontal Load Px = 0.0 N\n",
      "Vertical Load Py = 0.0 N\n",
      "Displacement :\n",
      "Horizontal Displacement u = -0.0009761904761905369 m\n",
      "Vertical Displacement v = -0.005557142857143191 m\n",
      "------------------------------------------------------------\n",
      "Node11 :\n",
      " Position :\n",
      "(1,0)\n",
      "External Load :\n",
      "Horizontal Load Px = 0.0 N\n",
      "Vertical Load Py = 0.0 N\n",
      "Displacement :\n",
      "Horizontal Displacement u = -0.000595238095238132 m\n",
      "Vertical Displacement v = -0.0025000000000001397 m\n",
      "------------------------------------------------------------\n",
      "Node12 :\n",
      " Position :\n",
      "(0,0)\n",
      "External Load :\n",
      "Horizontal Load Px = 150000.00000000908 N\n",
      "Vertical Load Py = 0.0 N\n",
      "Displacement :\n",
      "Horizontal Displacement u = 0.0 m\n",
      "Vertical Displacement v = -0.00011904761904762544 m\n",
      "************************************************************\n"
     ]
    }
   ],
   "metadata": {}
  },
  {
   "cell_type": "code",
   "execution_count": 7,
   "source": [
    "IF = sys.InternalForce"
   ],
   "outputs": [],
   "metadata": {}
  },
  {
   "cell_type": "code",
   "execution_count": null,
   "source": [],
   "outputs": [],
   "metadata": {}
  }
 ],
 "metadata": {
  "orig_nbformat": 4,
  "language_info": {
   "name": "python",
   "version": "3.8.10",
   "mimetype": "text/x-python",
   "codemirror_mode": {
    "name": "ipython",
    "version": 3
   },
   "pygments_lexer": "ipython3",
   "nbconvert_exporter": "python",
   "file_extension": ".py"
  },
  "kernelspec": {
   "name": "python3",
   "display_name": "Python 3.8.10 64-bit"
  },
  "interpreter": {
   "hash": "916dbcbb3f70747c44a77c7bcd40155683ae19c65e1c03b4aa3499c5328201f1"
  }
 },
 "nbformat": 4,
 "nbformat_minor": 2
}