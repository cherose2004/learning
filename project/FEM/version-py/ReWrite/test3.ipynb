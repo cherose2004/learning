{
 "cells": [
  {
   "cell_type": "markdown",
   "source": [
    "# P133-6-6"
   ],
   "metadata": {}
  },
  {
   "cell_type": "code",
   "execution_count": 1,
   "source": [
    "import numpy as np\n",
    "import FEM as fem"
   ],
   "outputs": [],
   "metadata": {}
  },
  {
   "cell_type": "code",
   "execution_count": 2,
   "source": [
    "Px = 3600\n",
    "Py = 7200\n",
    "a = 0.05\n",
    "E = 200e9\n",
    "f = 0.01\n",
    "G = 100e9\n",
    "t = 0.01"
   ],
   "outputs": [],
   "metadata": {}
  },
  {
   "cell_type": "code",
   "execution_count": 3,
   "source": [
    "node1 = fem.Node(0 , 0 , u = 0 , v = 0)\n",
    "node2 = fem.Node(2*a , 0 , Px = 0 , Py = 0)\n",
    "node3 = fem.Node(6*a , 0 , Px = 0 , Py = 0)\n",
    "node4 = fem.Node(2*a , -a , Px = 0 , Py = 0)\n",
    "node5 = fem.Node(6*a , -a , Px = Px , Py = -Py)\n",
    "node6 = fem.Node(0 , -4*a , u = 0 , v = 0)\n",
    "node7 = fem.Node(2*a , -3*a , Px = 0 , Py = 0)\n",
    "node8 = fem.Node(6*a , -3*a , Px = 0 , Py = 0)\n",
    "nodelist = [node1 , node2 , node3 , node4 , node5 , node6 , node7 , node8]\n",
    "sys = fem.SystemTruss(nodelist)"
   ],
   "outputs": [
    {
     "output_type": "stream",
     "name": "stdout",
     "text": [
      "Successfully Build The Truss System!\n"
     ]
    }
   ],
   "metadata": {}
  },
  {
   "cell_type": "code",
   "execution_count": 5,
   "source": [
    "sys.Connect(1 , 2 , E , f)\n",
    "sys.Connect(2 , 3 , E , f)\n",
    "sys.Connect(2 , 4 , E , f)\n",
    "sys.Connect(4 , 5 , E , f)\n",
    "sys.Connect(5 , 3 , E , f)\n",
    "sys.Connect(4 , 7 , E , f)\n",
    "sys.Connect(7 , 6 , E , f)\n",
    "sys.Connect(7 , 8 , E , f)\n",
    "sys.Connect(8 , 5 , E , f)\n",
    "\n",
    "sys.SetSheet(1 , 6 , 7 , 2 , G , t)\n",
    "sys.SetSheet(4 , 5 , 3 , 2 , G , t)\n",
    "sys.SetSheet(7 , 8 , 5 , 4 , G , t)\n",
    "\n",
    "sys.Generate()"
   ],
   "outputs": [
    {
     "output_type": "stream",
     "name": "stdout",
     "text": [
      "Successfully Generate Matrix K!\n"
     ]
    }
   ],
   "metadata": {}
  },
  {
   "cell_type": "code",
   "execution_count": 6,
   "source": [
    "sys.Solve()"
   ],
   "outputs": [],
   "metadata": {}
  },
  {
   "cell_type": "code",
   "execution_count": 8,
   "source": [
    "print(sys.Report)"
   ],
   "outputs": [
    {
     "output_type": "stream",
     "name": "stdout",
     "text": [
      "Reprort : Information of This Truss System\n",
      "\n",
      "**************************************************\n",
      "q of 1,6,7,2:\n",
      "14999.999999999858 N/m\n",
      "\n",
      "q of 4,5,3,2:\n",
      "-59999.999999999345 N/m\n",
      "\n",
      "q of 7,8,5,4:\n",
      "-41999.99999999936 N/m\n",
      "\n",
      "--------------------------------------------------\n",
      "Node1 :\n",
      " Position :\n",
      "(0,0)\n",
      "External Load :\n",
      " Horizontal Load Px = -13499.999999999858 N\n",
      "Vertical Load Py = 1124.9999999999893 N\n",
      "Displacement :\n",
      " Horizontal Displacement u = 0.0 m\n",
      "Vertical Displacement v = 0.0 m\n",
      "--------------------------------------------------\n",
      "Node2 :\n",
      " Position :\n",
      "(0.1,0)\n",
      "External Load :\n",
      " Horizontal Load Px = 0.0 N\n",
      "Vertical Load Py = 0.0 N\n",
      "Displacement :\n",
      " Horizontal Displacement u = 6.374999999999933e-07 m\n",
      "Vertical Displacement v = -1.7217189218290687e-06 m\n",
      "--------------------------------------------------\n",
      "Node3 :\n",
      " Position :\n",
      "(0.30000000000000004,0)\n",
      "External Load :\n",
      " Horizontal Load Px = 0.0 N\n",
      "Vertical Load Py = 0.0 N\n",
      "Displacement :\n",
      " Horizontal Displacement u = 1.2374999999999869e-06 m\n",
      "Vertical Displacement v = -1.2620157223697988e-05 m\n",
      "--------------------------------------------------\n",
      "Node4 :\n",
      " Position :\n",
      "(0.1,-0.05)\n",
      "External Load :\n",
      " Horizontal Load Px = 0.0 N\n",
      "Vertical Load Py = 0.0 N\n",
      "Displacement :\n",
      " Horizontal Displacement u = 1.1182029245327271e-06 m\n",
      "Vertical Displacement v = -1.721718921829069e-06 m\n",
      "--------------------------------------------------\n",
      "Node5 :\n",
      " Position :\n",
      "(0.30000000000000004,-0.05)\n",
      "External Load :\n",
      " Horizontal Load Px = 3600.0 N\n",
      "Vertical Load Py = -7200.0 N\n",
      "Displacement :\n",
      " Horizontal Displacement u = 1.2982029245327273e-06 m\n",
      "Vertical Displacement v = -1.2657657223697991e-05 m\n",
      "--------------------------------------------------\n",
      "Node6 :\n",
      " Position :\n",
      "(0,-0.2)\n",
      "External Load :\n",
      " Horizontal Load Px = 9899.999999999856 N\n",
      "Vertical Load Py = 6074.999999999916 N\n",
      "Displacement :\n",
      " Horizontal Displacement u = 0.0 m\n",
      "Vertical Displacement v = 0.0 m\n",
      "--------------------------------------------------\n",
      "Node7 :\n",
      " Position :\n",
      "(0.1,-0.15000000000000002)\n",
      "External Load :\n",
      " Horizontal Load Px = 0.0 N\n",
      "Vertical Load Py = 0.0 N\n",
      "Displacement :\n",
      " Horizontal Displacement u = 1.3148377359819898e-07 m\n",
      "Vertical Displacement v = -1.5417189218290713e-06 m\n",
      "--------------------------------------------------\n",
      "Node8 :\n",
      " Position :\n",
      "(0.30000000000000004,-0.15000000000000002)\n",
      "External Load :\n",
      " Horizontal Load Px = 0.0 N\n",
      "Vertical Load Py = 0.0 N\n",
      "Displacement :\n",
      " Horizontal Displacement u = -2.885162264017948e-07 m\n",
      "Vertical Displacement v = -1.2552657223697995e-05 m\n",
      "**************************************************\n"
     ]
    }
   ],
   "metadata": {}
  },
  {
   "cell_type": "code",
   "execution_count": 9,
   "source": [
    "ans = sys.InternalForce"
   ],
   "outputs": [],
   "metadata": {}
  },
  {
   "cell_type": "code",
   "execution_count": null,
   "source": [],
   "outputs": [],
   "metadata": {}
  }
 ],
 "metadata": {
  "orig_nbformat": 4,
  "language_info": {
   "name": "python"
  }
 },
 "nbformat": 4,
 "nbformat_minor": 2
}