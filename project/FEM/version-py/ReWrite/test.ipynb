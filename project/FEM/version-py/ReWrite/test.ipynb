{
 "cells": [
  {
   "cell_type": "markdown",
   "source": [
    "# P295-11.6.3"
   ],
   "metadata": {}
  },
  {
   "cell_type": "code",
   "execution_count": 1,
   "source": [
    "import FEM as fem\n",
    "import numpy as np\n",
    "NaN = np.nan"
   ],
   "outputs": [],
   "metadata": {}
  },
  {
   "cell_type": "code",
   "execution_count": 2,
   "source": [
    "P = 1e5\n",
    "E = 200e9\n",
    "a = 1\n",
    "A = 0.01\n",
    "t = 2.6*A/a\n",
    "G = E/2.6"
   ],
   "outputs": [],
   "metadata": {}
  },
  {
   "cell_type": "code",
   "execution_count": 3,
   "source": [
    "node1 = fem.Node(2*a , a , Px = P , Py = 0)\n",
    "node2 = fem.Node(a , a , Px = 0 , Py = 0)\n",
    "node3 = fem.Node(0 , a , Px = 0 , Py = 0)\n",
    "node4 = fem.Node(2*a , 0 , u = 0 , v = 0)\n",
    "node5 = fem.Node(a , 0 , u = 0 , v = 0)\n",
    "node6 = fem.Node(0 , 0 , u = 0 , v = 0)\n",
    "ListNode = [node1 , node2 , node3 , node4 , node5 , node6]\n",
    "sys = fem.SystemTruss(ListNode)\n",
    "sys.Connect(2 , 1 , E , A)\n",
    "sys.Connect(3 , 2 , E , A)\n",
    "sys.Connect(4 , 1 , E , A)\n",
    "sys.Connect(5 , 2 , E , A)\n",
    "sys.Connect(6 , 3 , E , A)\n",
    "sys.SetSheet(6 , 5 , 2 , 3 , G , t)\n",
    "sys.SetSheet(5 , 4 , 1 , 2 , G , t)\n",
    "sys.Generate()\n",
    "sys.Solve()"
   ],
   "outputs": [
    {
     "output_type": "stream",
     "name": "stdout",
     "text": [
      "Successfully Build The Truss System!\n",
      "Successfully Generate Matrix K!\n"
     ]
    }
   ],
   "metadata": {}
  },
  {
   "cell_type": "code",
   "execution_count": 4,
   "source": [
    "print(np.round(sys.K/1e8/5))"
   ],
   "outputs": [
    {
     "output_type": "stream",
     "name": "stdout",
     "text": [
      "[[ 5.  1. -3. -1.  0.  0. -1.  1. -1. -1.  0.  0.]\n",
      " [ 1.  5.  1. -1.  0.  0. -1. -3. -1. -1.  0.  0.]\n",
      " [-3.  1. 10.  0. -3. -1. -1.  1. -2.  0. -1. -1.]\n",
      " [-1. -1.  0.  6.  1. -1.  1. -1.  0. -2. -1. -1.]\n",
      " [ 0.  0. -3.  1.  5. -1.  0.  0. -1.  1. -1. -1.]\n",
      " [ 0.  0. -1. -1. -1.  5.  0.  0.  1. -1.  1. -3.]\n",
      " [-1. -1. -1.  1.  0.  0.  1. -1.  1.  1.  0.  0.]\n",
      " [ 1. -3.  1. -1.  0.  0. -1.  5. -1. -1.  0.  0.]\n",
      " [-1. -1. -2.  0. -1.  1.  1. -1.  2.  0.  1.  1.]\n",
      " [-1. -1.  0. -2.  1. -1.  1. -1.  0.  6. -1. -1.]\n",
      " [ 0.  0. -1. -1. -1.  1.  0.  0.  1. -1.  1.  1.]\n",
      " [ 0.  0. -1. -1. -1. -3.  0.  0.  1. -1.  1.  5.]]\n"
     ]
    }
   ],
   "metadata": {}
  },
  {
   "cell_type": "code",
   "execution_count": 5,
   "source": [
    "sys.SheetList[1].q"
   ],
   "outputs": [
    {
     "output_type": "execute_result",
     "data": {
      "text/plain": [
       "62500.0"
      ]
     },
     "metadata": {},
     "execution_count": 5
    }
   ],
   "metadata": {}
  },
  {
   "cell_type": "code",
   "execution_count": 6,
   "source": [
    "print(sys.Report)"
   ],
   "outputs": [
    {
     "output_type": "stream",
     "name": "stdout",
     "text": [
      "Reprort : Information of This Truss System\n",
      "\n",
      "**************************************************\n",
      "q of 6,5,2,3:\n",
      "37500.0 N/m\n",
      "\n",
      "q of 5,4,1,2:\n",
      "62500.0 N/m\n",
      "\n",
      "--------------------------------------------------\n",
      "Node1 :\n",
      " Position :\n",
      "(2,1)\n",
      "External Load :\n",
      " Horizontal Load Px = 100000.0 N\n",
      "Vertical Load Py = 0.0 N\n",
      "Displacement :\n",
      " Horizontal Displacement u = 5.937500000000001e-05 m\n",
      "Vertical Displacement v = -1.5625e-05 m\n",
      "--------------------------------------------------\n",
      "Node2 :\n",
      " Position :\n",
      "(1,1)\n",
      "External Load :\n",
      " Horizontal Load Px = 0.0 N\n",
      "Vertical Load Py = 0.0 N\n",
      "Displacement :\n",
      " Horizontal Displacement u = 2.4999999999999998e-05 m\n",
      "Vertical Displacement v = 6.250000000000003e-06 m\n",
      "--------------------------------------------------\n",
      "Node3 :\n",
      " Position :\n",
      "(0,1)\n",
      "External Load :\n",
      " Horizontal Load Px = 0.0 N\n",
      "Vertical Load Py = 0.0 N\n",
      "Displacement :\n",
      " Horizontal Displacement u = 1.5624999999999997e-05 m\n",
      "Vertical Displacement v = 9.375000000000001e-06 m\n",
      "--------------------------------------------------\n",
      "Node4 :\n",
      " Position :\n",
      "(2,0)\n",
      "External Load :\n",
      " Horizontal Load Px = -31250.0 N\n",
      "Vertical Load Py = 62500.0 N\n",
      "Displacement :\n",
      " Horizontal Displacement u = 0.0 m\n",
      "Vertical Displacement v = 0.0 m\n",
      "--------------------------------------------------\n",
      "Node5 :\n",
      " Position :\n",
      "(1,0)\n",
      "External Load :\n",
      " Horizontal Load Px = -50000.0 N\n",
      "Vertical Load Py = -25000.000000000007 N\n",
      "Displacement :\n",
      " Horizontal Displacement u = 0.0 m\n",
      "Vertical Displacement v = 0.0 m\n",
      "--------------------------------------------------\n",
      "Node6 :\n",
      " Position :\n",
      "(0,0)\n",
      "External Load :\n",
      " Horizontal Load Px = -18750.0 N\n",
      "Vertical Load Py = -37500.0 N\n",
      "Displacement :\n",
      " Horizontal Displacement u = 0.0 m\n",
      "Vertical Displacement v = 0.0 m\n",
      "**************************************************\n"
     ]
    }
   ],
   "metadata": {}
  },
  {
   "cell_type": "code",
   "execution_count": 7,
   "source": [
    "print(np.round(sys.InternalForce))"
   ],
   "outputs": [
    {
     "output_type": "stream",
     "name": "stdout",
     "text": [
      "[[     0. 100000.      0.      0.      0.      0.]\n",
      " [ 37500.      0.  37500.      0.      0.      0.]\n",
      " [     0.      0.      0.      0.      0.      0.]\n",
      " [-62500.      0.      0.      0. -31250.      0.]\n",
      " [     0.  25000.      0.  31250.      0. -18750.]\n",
      " [     0.      0.  37500.      0.  18750.      0.]]\n"
     ]
    }
   ],
   "metadata": {}
  },
  {
   "cell_type": "code",
   "execution_count": 8,
   "source": [
    "sys.NodeConnection"
   ],
   "outputs": [
    {
     "output_type": "execute_result",
     "data": {
      "text/plain": [
       "array([[0., 0., 0., 0., 0., 0.],\n",
       "       [1., 0., 0., 0., 0., 0.],\n",
       "       [0., 1., 0., 0., 0., 0.],\n",
       "       [1., 0., 0., 0., 0., 0.],\n",
       "       [0., 1., 0., 0., 0., 0.],\n",
       "       [0., 0., 1., 0., 0., 0.]])"
      ]
     },
     "metadata": {},
     "execution_count": 8
    }
   ],
   "metadata": {}
  },
  {
   "cell_type": "code",
   "execution_count": null,
   "source": [],
   "outputs": [],
   "metadata": {}
  }
 ],
 "metadata": {
  "orig_nbformat": 4,
  "language_info": {
   "name": "python",
   "version": "3.8.10",
   "mimetype": "text/x-python",
   "codemirror_mode": {
    "name": "ipython",
    "version": 3
   },
   "pygments_lexer": "ipython3",
   "nbconvert_exporter": "python",
   "file_extension": ".py"
  },
  "kernelspec": {
   "name": "python3",
   "display_name": "Python 3.8.10 64-bit"
  },
  "interpreter": {
   "hash": "916dbcbb3f70747c44a77c7bcd40155683ae19c65e1c03b4aa3499c5328201f1"
  }
 },
 "nbformat": 4,
 "nbformat_minor": 2
}