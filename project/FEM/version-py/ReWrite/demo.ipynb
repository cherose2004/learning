{
 "cells": [
  {
   "cell_type": "code",
   "execution_count": 1,
   "source": [
    "import FEM as fem\n",
    "import numpy as np\n",
    "\n",
    "E = 200e9\n",
    "A = 0.01\n",
    "l = 1\n",
    "node1 = fem.Node(0 , 0 , u = 0 , v = 0)\n",
    "node2 = fem.Node(l , 0 , Px = 0 , Py = -10e3)\n",
    "node3 = fem.Node(0 , l , u = 0 , v = 0)\n",
    "List = [node1 , node2 , node3]\n",
    "sys = fem.SystemTruss(List)\n",
    "sys.Connect(1 , 2 , E , A)\n",
    "sys.Connect(2 , 3 , E , A)\n",
    "sys.Generate()\n",
    "print(sys.K/1e9)"
   ],
   "outputs": [
    {
     "output_type": "stream",
     "name": "stdout",
     "text": [
      "Successfully Build The Truss System!\n",
      "Successfully Generate Matrix K!\n",
      "[[ 2.          0.         -2.          0.          0.          0.        ]\n",
      " [ 0.          0.          0.          0.          0.          0.        ]\n",
      " [-2.          0.          2.70710678 -0.70710678 -0.70710678  0.70710678]\n",
      " [ 0.          0.         -0.70710678  0.70710678  0.70710678 -0.70710678]\n",
      " [ 0.          0.         -0.70710678  0.70710678  0.70710678 -0.70710678]\n",
      " [ 0.          0.          0.70710678 -0.70710678 -0.70710678  0.70710678]]\n"
     ]
    }
   ],
   "metadata": {}
  },
  {
   "cell_type": "code",
   "execution_count": null,
   "source": [],
   "outputs": [],
   "metadata": {}
  }
 ],
 "metadata": {
  "orig_nbformat": 4,
  "language_info": {
   "name": "python",
   "version": "3.8.10",
   "mimetype": "text/x-python",
   "codemirror_mode": {
    "name": "ipython",
    "version": 3
   },
   "pygments_lexer": "ipython3",
   "nbconvert_exporter": "python",
   "file_extension": ".py"
  },
  "kernelspec": {
   "name": "python3",
   "display_name": "Python 3.8.10 64-bit"
  },
  "interpreter": {
   "hash": "916dbcbb3f70747c44a77c7bcd40155683ae19c65e1c03b4aa3499c5328201f1"
  }
 },
 "nbformat": 4,
 "nbformat_minor": 2
}