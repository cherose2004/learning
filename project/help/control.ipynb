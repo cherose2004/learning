{
 "cells": [
  {
   "cell_type": "markdown",
   "source": [
    "# Task\n",
    "\n",
    "The question is shown as below.\n",
    "\n",
    "Considering the dynamics equation:\n",
    "\n",
    "$$\n",
    "\\begin{aligned}\n",
    "m\\ddot{q} + C \\text{sign}\\dot{q} &= Q(t)\\\\\n",
    "Also&:\\\\\n",
    "m\\ddot{q} + C \\frac{\\dot{q}}{|q|} &= Q(t)\n",
    "\\end{aligned}\n",
    "$$\n",
    "\n",
    "And the desired position is obvious that $q_d = \\dot{q_d} = \\ddot{q_d} = 0$, so the $Q(t)$ could be represented as:\n",
    "\n",
    "$$\n",
    "\\begin{aligned}\n",
    "Q &= K_p(q_d - q) + K_{\\tau 1}(\\dot{q_d} - \\dot{q}) - K_{\\tau 2}\\dot{q} + Q_f\\\\\n",
    "&= -K_p q - K_\\tau\\dot{q} + Q_f\n",
    "\\end{aligned}\n",
    "$$\n",
    "\n",
    "While:\n",
    "\n",
    "$$\n",
    "\\begin{aligned}\n",
    "Q_f &= \\tilde{m}\\ddot{q_d} + \\tilde{c}\\dot{q_d} + \\tilde{C_d}\\\\\n",
    "&=\\tilde{C_d}\n",
    "\\end{aligned}\n",
    "$$\n",
    "\n",
    "So the whole equation is:\n",
    "\n",
    "$$\n",
    "m\\ddot{q} + C\\text{sign}\\dot{q} + K_\\tau \\dot{q} + K_p q = C_d\n",
    "$$\n",
    "\n",
    "Obviously that when $\\ddot{q}=\\dot{q}=q=0$ ,$C_d=0$. So the equation can be represented as:\n",
    "\n",
    "$$\n",
    "\\begin{aligned}\n",
    "\\begin{cases}\n",
    "m\\ddot{q} + (K_\\tau+C) \\dot{q} + K_p q &= 0,\\dot{q}>0\\\\\n",
    "m\\ddot{q} + (K_\\tau-C)\\dot{q} + K_p q &=0,\\dot{q}<0\\\\\n",
    "m\\ddot{q} + K_\\tau \\dot{q} + K_p q &= 0,\\dot{q}=0\n",
    "\\end{cases}\n",
    "\\end{aligned}\n",
    "$$\n",
    "\n",
    "Analysis the problem according to classical control theory, to make the system stable and without overshoot, we will have:\n",
    "\n",
    "$$\n",
    "\\begin{aligned}\n",
    "K_\\tau&>|C|\\\\\n",
    "\\frac{(\\{K_\\tau-C,K_\\tau+C\\}_{\\min})^2}{4m}&>K_p\n",
    "\\end{aligned}\n",
    "$$\n",
    "\n",
    "Let:\n",
    "\n",
    "$$\n",
    "\\begin{aligned}\n",
    "t_j &= t_0 + j\\tau,j = 0 , 1 , 2 , 3...\\\\\n",
    "u_j &= u(t_j)\\\\\n",
    "\\dot{u}_j &= \\frac{u(t_j)-u(t_{j-1})}{\\tau}\\\\\n",
    "\\ddot{u}_j &= \\frac{\\dot{u}(t_j)-\\dot{u}(t_{j-1})}{\\tau} = \\frac{ u(t_j)+u(t_{j-2}-2u(t_{j-1})) }{\\tau^2}\n",
    "\\end{aligned}\n",
    "$$\n",
    "\n",
    "For the $Q(t)$ is given by PC, so it's not a continuous value. It can be given as:\n",
    "\n",
    "$$\n",
    "\\begin{aligned}\n",
    "Q(t) &= -K_p q_j -K_\\tau \\frac{(q_j-q_{j-1})}{\\tau}\\\\\n",
    "&= -(K_p+\\frac{K_\\tau}{\\tau})q_j + \\frac{K_\\tau}{\\tau}q_{j-1} ,t\\in(t_j,t_{j+1}]\n",
    "\\end{aligned}\n",
    "$$\n",
    "\n",
    "Let us see a demo when $K_p=100$ and $K_\\tau=50$:"
   ],
   "metadata": {}
  },
  {
   "cell_type": "code",
   "execution_count": 7,
   "source": [
    "import numpy as np\n",
    "import matplotlib.pyplot as plt\n",
    "\n",
    "#define some value\n",
    "m = 1.5\n",
    "C = -12\n",
    "tau = 3e-3\n",
    "\n",
    "#define sign function\n",
    "def sign(x):\n",
    "    if x == 0:\n",
    "        return 0\n",
    "    elif x > 0:\n",
    "        return 1\n",
    "    else:\n",
    "        return -1\n",
    "    pass\n",
    "\n",
    "#define Q(t) function\n",
    "def Qt(qj , qj_1 , Kp , Kt , tau):\n",
    "    a1 = -(Kp + Kt/tau) * qj\n",
    "    a2 = Kt / tau * qj_1\n",
    "    return a1 + a2"
   ],
   "outputs": [],
   "metadata": {}
  },
  {
   "cell_type": "markdown",
   "source": [
    "## 1.$K_p=100 , K_\\tau=50$"
   ],
   "metadata": {}
  },
  {
   "cell_type": "code",
   "execution_count": 8,
   "source": [
    "dt = 1e-5 #set the simulation time interval as 0.01ms\n",
    "t = 5 #set the simulation end time as 5s\n",
    "step = int(t/dt)\n",
    "\n",
    "#set the control parameter\n",
    "Kp = 100 #set100 as an example\n",
    "Kt = 50 # set 50 as an example\n",
    "\n",
    "#set the initial condition\n",
    "q0 = -3\n",
    "q_0 = 0\n",
    "q__0 = 0\n",
    "q = np.zeros(step)\n",
    "q_ = np.zeros(step)\n",
    "q__ = np.zeros(step)\n",
    "q[0] = q0\n",
    "q_[0] = q_0\n",
    "q__[0] = q__0\n",
    "\n",
    "#start simulation\n",
    "for i in range(1,step):\n",
    "    j = int(i*dt/tau)\n",
    "    if j == 0:\n",
    "        Q = Qt(q0 , q0 , Kp , Kt , tau)\n",
    "        pass\n",
    "    else:\n",
    "        qj = q[int(j*tau/dt)]\n",
    "        qj_1 = q[int((j-1)*tau/dt)]\n",
    "        Q = Qt(qj , qj_1 , Kp , Kt , tau)\n",
    "        pass\n",
    "    CC = C*sign(q[i])\n",
    "    a = (Q-CC)/m\n",
    "    v = q_[i-1]\n",
    "    x = q[i-1]\n",
    "    q__[i] = a\n",
    "    q_[i] = v + a*dt\n",
    "    q[i] = x + v*dt + a*dt**2/2\n",
    "    pass\n",
    "\n",
    "#draw the picture\n",
    "tt = np.arange(0 , t-dt , dt)\n",
    "plt.figure(figsize=(10 , 6))\n",
    "plt.plot(tt , q , linewidth = 3)\n",
    "plt.grid('on')\n",
    "plt.xlabel('time  $t/s$')\n",
    "plt.ylabel('position $q(t)/m$')\n",
    "plt.title(r'$q(t)-t$ when $K_p=$'+str(Kp)+r', $K_{\\tau}=$'+str(Kt))\n",
    "plt.show()"
   ],
   "outputs": [
    {
     "output_type": "display_data",
     "data": {
      "text/plain": [
       "<Figure size 720x432 with 1 Axes>"
      ],
      "image/png": "[encoded data removed]"
     },
     "metadata": {
      "needs_background": "light"
     }
    }
   ],
   "metadata": {}
  },
  {
   "cell_type": "markdown",
   "source": [
    "## 2.$K_p=1000 , K_\\tau=50$"
   ],
   "metadata": {}
  },
  {
   "cell_type": "code",
   "execution_count": 16,
   "source": [
    "dt = 1e-5 #set the simulation time interval as 0.01ms\n",
    "t = 5 #set the simulation end time as 5s\n",
    "step = int(t/dt)\n",
    "\n",
    "#set the control parameter\n",
    "Kp = 1000 #set1000 as an example\n",
    "Kt = 50 # set 50 as an example\n",
    "\n",
    "#set the initial condition\n",
    "q0 = -3\n",
    "q_0 = 0\n",
    "q__0 = 0\n",
    "q = np.zeros(step)\n",
    "q_ = np.zeros(step)\n",
    "q__ = np.zeros(step)\n",
    "q[0] = q0\n",
    "q_[0] = q_0\n",
    "q__[0] = q__0\n",
    "\n",
    "#start simulation\n",
    "for i in range(1,step):\n",
    "    j = int(i*dt/tau)\n",
    "    if j == 0:\n",
    "        Q = Qt(q0 , q0 , Kp , Kt , tau)\n",
    "        pass\n",
    "    else:\n",
    "        qj = q[int(j*tau/dt)]\n",
    "        qj_1 = q[int((j-1)*tau/dt)]\n",
    "        Q = Qt(qj , qj_1 , Kp , Kt , tau)\n",
    "        pass\n",
    "    CC = C*sign(q[i])\n",
    "    a = (Q-CC)/m\n",
    "    v = q_[i-1]\n",
    "    x = q[i-1]\n",
    "    q__[i] = a\n",
    "    q_[i] = v + a*dt\n",
    "    q[i] = x + v*dt + a*dt**2/2\n",
    "    pass\n",
    "\n",
    "#draw the picture\n",
    "tt = np.arange(0 , t-dt , dt)\n",
    "plt.figure(figsize=(10 , 6))\n",
    "plt.plot(tt , q , linewidth = 3)\n",
    "plt.grid('on')\n",
    "plt.xlabel('time  $t/s$')\n",
    "plt.ylabel('position $q(t)/m$')\n",
    "plt.title(r'$q(t)-t$ when $K_p=$'+str(Kp)+r', $K_{\\tau}=$'+str(Kt) , fontsize = 30)\n",
    "plt.scatter(0.15 , q.max() , alpha = 0.5 , color = 'r' , s = 100)\n",
    "plt.text(0.5 , -0.5 , 'Overshoot' , color = 'r' , fontsize = 20)\n",
    "plt.show()"
   ],
   "outputs": [
    {
     "output_type": "display_data",
     "data": {
      "text/plain": [
       "<Figure size 720x432 with 1 Axes>"
      ],
      "image/png": "[encoded data removed]"
     },
     "metadata": {
      "needs_background": "light"
     }
    }
   ],
   "metadata": {}
  },
  {
   "cell_type": "markdown",
   "source": [
    "Ovviously we can see that——althougth it will get stable more quickly, but it will have a overshoot as a result of the increase of $K_p$."
   ],
   "metadata": {}
  },
  {
   "cell_type": "markdown",
   "source": [
    "## 3.$K_p=100 , K_\\tau=100$"
   ],
   "metadata": {}
  },
  {
   "cell_type": "code",
   "execution_count": 18,
   "source": [
    "dt = 1e-5 #set the simulation time interval as 0.01ms\n",
    "t = 10 #set the simulation end time as 10s\n",
    "step = int(t/dt)\n",
    "\n",
    "#set the control parameter\n",
    "Kp = 100 #set100 as an example\n",
    "Kt = 100 # set 100 as an example\n",
    "\n",
    "#set the initial condition\n",
    "q0 = -3\n",
    "q_0 = 0\n",
    "q__0 = 0\n",
    "q = np.zeros(step)\n",
    "q_ = np.zeros(step)\n",
    "q__ = np.zeros(step)\n",
    "q[0] = q0\n",
    "q_[0] = q_0\n",
    "q__[0] = q__0\n",
    "\n",
    "#start simulation\n",
    "for i in range(1,step):\n",
    "    j = int(i*dt/tau)\n",
    "    if j == 0:\n",
    "        Q = Qt(q0 , q0 , Kp , Kt , tau)\n",
    "        pass\n",
    "    else:\n",
    "        qj = q[int(j*tau/dt)]\n",
    "        qj_1 = q[int((j-1)*tau/dt)]\n",
    "        Q = Qt(qj , qj_1 , Kp , Kt , tau)\n",
    "        pass\n",
    "    CC = C*sign(q[i])\n",
    "    a = (Q-CC)/m\n",
    "    v = q_[i-1]\n",
    "    x = q[i-1]\n",
    "    q__[i] = a\n",
    "    q_[i] = v + a*dt\n",
    "    q[i] = x + v*dt + a*dt**2/2\n",
    "    pass\n",
    "\n",
    "#draw the picture\n",
    "tt = np.arange(0 , t-dt , dt)\n",
    "plt.figure(figsize=(10 , 6))\n",
    "plt.plot(tt , q , linewidth = 3)\n",
    "plt.grid('on')\n",
    "plt.xlabel('time  $t/s$')\n",
    "plt.ylabel('position $q(t)/m$')\n",
    "plt.title(r'$q(t)-t$ when $K_p=$'+str(Kp)+r', $K_{\\tau}=$'+str(Kt))\n",
    "plt.show()"
   ],
   "outputs": [
    {
     "output_type": "display_data",
     "data": {
      "text/plain": [
       "<Figure size 720x432 with 1 Axes>"
      ],
      "image/png": "[encoded data removed]"
     },
     "metadata": {
      "needs_background": "light"
     }
    }
   ],
   "metadata": {}
  },
  {
   "cell_type": "markdown",
   "source": [
    "As can be seen in the picture, the increase of $K_\\tau$ will result a longer time into stable condition. Even the system will lose stable condition when $K_\\tau$ is too large."
   ],
   "metadata": {}
  }
 ],
 "metadata": {
  "orig_nbformat": 4,
  "language_info": {
   "name": "python",
   "version": "3.8.10",
   "mimetype": "text/x-python",
   "codemirror_mode": {
    "name": "ipython",
    "version": 3
   },
   "pygments_lexer": "ipython3",
   "nbconvert_exporter": "python",
   "file_extension": ".py"
  },
  "kernelspec": {
   "name": "python3",
   "display_name": "Python 3.8.10 64-bit"
  },
  "interpreter": {
   "hash": "916dbcbb3f70747c44a77c7bcd40155683ae19c65e1c03b4aa3499c5328201f1"
  }
 },
 "nbformat": 4,
 "nbformat_minor": 2
}