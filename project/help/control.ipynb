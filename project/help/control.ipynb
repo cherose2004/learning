{
 "cells": [
  {
   "cell_type": "markdown",
   "source": [
    "# Task\n",
    "\n",
    "The question is shown as below.\n",
    "\n",
    "Considering the dynamics equation:\n",
    "\n",
    "$$\n",
    "m\\ddot{q} + C = Q(t)\\\\\n",
    "\n",
    "C =\n",
    "\\begin{cases}\n",
    "12,q<0\\\\\n",
    "-12,q>0\n",
    "\\end{cases}\n",
    "$$\n",
    "\n"
   ],
   "metadata": {}
  }
 ],
 "metadata": {
  "orig_nbformat": 4,
  "language_info": {
   "name": "julia"
  }
 },
 "nbformat": 4,
 "nbformat_minor": 2
}