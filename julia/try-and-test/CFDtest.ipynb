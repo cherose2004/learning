{
 "cells": [
  {
   "cell_type": "code",
   "execution_count": 6,
   "metadata": {},
   "outputs": [
    {
     "name": "stderr",
     "output_type": "stream",
     "text": [
      "┌ Info: Saved animation to \n",
      "│   fn = /home/bcynuaa/code/learning/julia/tmp.gif\n",
      "└ @ Plots /home/bcynuaa/.julia/packages/Plots/uCh2y/src/animation.jl:104\n"
     ]
    },
    {
     "name": "stdout",
     "output_type": "stream",
     "text": [
      "=============\n"
     ]
    }
   ],
   "source": [
    "using QuadGK\n",
    "using Plots\n",
    "\n",
    "#mesh parameter\n",
    "L = 1\n",
    "div = 100\n",
    "dx = L/div\n",
    "\n",
    "#time parameter\n",
    "t0 = 0.0\n",
    "T = 5\n",
    "\n",
    "#physics constants\n",
    "g = 1.0\n",
    "\n",
    "#initial height profile\n",
    "function u0(x)\n",
    "    return 0.1+0.1*exp(-64*(x-0.25)*(x-0.25))\n",
    "end\n",
    "\n",
    "#initial height vector\n",
    "ini_h = [u0(i*dx-0.5dx) for i in 1:(div)]\n",
    "#initial velocity vector\n",
    "ini_m = [0 for i in 0:(div-1)]\n",
    "\n",
    "ini_U=[ini_h ini_m]\n",
    "\n",
    "function f(H,M,i)\n",
    "     return (M[i], M[i]*M[i]/H[i]+(g/2)*H[i]*H[i])\n",
    "end\n",
    "\n",
    "function flux(H,M,L,R)\n",
    "    if L==0\n",
    "        return (0,f(H,M,R)[2])\n",
    "    end\n",
    "    if R==div+1\n",
    "        return (0,f(H,M,L)[2])\n",
    "    end\n",
    "    fl = f(H,M,L)\n",
    "    fr = f(H,M,R)\n",
    "    d = 0.2\n",
    "    return ((fl[1]+fr[1])/2+d*(H[L]-H[R])/2, (fl[2]+fr[2])/2+d*(M[L]-M[R])/2)\n",
    "end\n",
    "\n",
    "function dUdt(U,t)\n",
    "    curr_dhdt = []\n",
    "    curr_dmdt = []\n",
    "    curr_h = U[1:div]\n",
    "    curr_m = U[(div+1):(2div)]\n",
    "    for i in 1:div\n",
    "        flux_l = flux(curr_h,curr_m,i-1,i)\n",
    "        flux_r = flux(curr_h,curr_m,i,i+1)\n",
    "        push!(curr_dhdt, (flux_l[1]-flux_r[1])/dx)\n",
    "        push!(curr_dmdt, (flux_l[2]-flux_r[2])/dx)\n",
    "    end\n",
    "    return vcat(curr_dhdt, curr_dmdt)\n",
    "end\n",
    "\n",
    "\n",
    "function rk4(f,t0,t1,y0,h)\n",
    "    t=[t0]\n",
    "    y=reshape(y0,1,length(y0))\n",
    "    for tm in (t0+h):h:t1\n",
    "        k1=f(y[end,:], tm)\n",
    "        k2=f(y[end,:]+0.5h*k1, tm+0.5h)\n",
    "        k3=f(y[end,:]+0.5h*k2, tm+0.5h)\n",
    "        k4=f(y[end,:]+h*k3, tm+h)\n",
    "        y=[y; transpose(y[end,:]+h*(k1+2k2+2k3+k4)/6)]\n",
    "        push!(t,tm)\n",
    "    end\n",
    "    return t,y\n",
    "end\n",
    "\n",
    "t,y = rk4(dUdt,t0,T,ini_U,0.01)\n",
    "\n",
    "\n",
    "@gif for i in 1:500\n",
    "    Plots.plot([dx*i for i in 1:div],y[i,1:div],ylims=(0,0.3),label=\"t=\"*string(round(i*0.01; digits=2)))\n",
    "    title!(\"The Wave\")\n",
    "end every 2\n",
    "\n",
    "println(\"=============\")"
   ]
  }
 ],
 "metadata": {
  "kernelspec": {
   "display_name": "Julia 1.4.1",
   "language": "julia",
   "name": "julia-1.4"
  },
  "language_info": {
   "file_extension": ".jl",
   "mimetype": "application/julia",
   "name": "julia",
   "version": "1.4.1"
  }
 },
 "nbformat": 4,
 "nbformat_minor": 4
}